{
 "cells": [
  {
   "cell_type": "code",
   "execution_count": null,
   "metadata": {},
   "outputs": [],
   "source": [
    "import xarray as xr\n",
    "import pandas as pd\n",
    "import numpy as np\n",
    "import plotly.graph_objects as go\n",
    "import matplotlib.pyplot as plt\n",
    "from datetime import datetime, timedelta"
   ]
  },
  {
   "cell_type": "code",
   "execution_count": null,
   "metadata": {},
   "outputs": [],
   "source": [
    "df_30_xgb_unorm_form = pd.read_csv(\"../data/full_predictions_cross_validation_v4_without_prob_with_30min_unormalised_formated.csv.gz\")\n",
    "df_pvnet_form = pd.read_csv(\"../data/pvnet_predicitons_2021-2023_formated_v2.csv.gz\")\n",
    "pvlive_df = pd.read_csv(\"../pvlive_2016_2022.csv\")\n",
    "model_v6_df = pd.read_csv(\"../data/forecast_v=6__model_name=national_xg__model_version=1.0.23__start_date=2016-12-01__end_date=2022-08-08.csv\")"
   ]
  },
  {
   "cell_type": "code",
   "execution_count": null,
   "metadata": {},
   "outputs": [],
   "source": [
    "# Function to calculate Mean Absolute Error (MAE) for each forecast horizon\n",
    "def calculate_mae_for_forecast_horizons(df_forecast, df_actual):\n",
    "    # Merge the forecast and actual dataframes on the end_datetime_utc column\n",
    "    merged_df = pd.merge(df_forecast, df_actual, on='end_datetime_utc', suffixes=('_forecast', '_actual'))\n",
    "    \n",
    "    # Calculate the difference in hours between the forecasting_creation_datetime_utc and end_datetime_utc\n",
    "    merged_df['forecast_horizon_hours'] = (pd.to_datetime(merged_df['end_datetime_utc']) - pd.to_datetime(merged_df['forecasting_creation_datetime_utc'])).dt.total_seconds() / 3600\n",
    "    \n",
    "    # Calculate the absolute error between the forecasted and actual generation\n",
    "    merged_df['absolute_error'] = np.abs(merged_df['generation_mw_forecast'] - merged_df['generation_mw_actual'])\n",
    "    \n",
    "    # Group by the forecast horizon and calculate the mean absolute error for each group\n",
    "    mae_by_horizon = merged_df.groupby('forecast_horizon_hours')['absolute_error'].mean().reset_index(name='MAE')\n",
    "    \n",
    "    return mae_by_horizon\n",
    "\n",
    "# Calculate MAE for df_30_xgb_unorm_form against pvlive_df\n",
    "mae_df_30_xgb_unorm_form = calculate_mae_for_forecast_horizons(df_30_xgb_unorm_form, pvlive_df)\n",
    "\n",
    "# Display the MAE for each forecast horizon\n",
    "print(mae_df_30_xgb_unorm_form)"
   ]
  },
  {
   "cell_type": "code",
   "execution_count": null,
   "metadata": {},
   "outputs": [],
   "source": [
    "# Create a plotly figure\n",
    "fig = go.Figure()\n",
    "\n",
    "# Add line plot for MAE across different forecast horizons\n",
    "fig.add_trace(go.Scatter(x=mae_df_30_xgb_unorm_form['forecast_horizon_hours'], y=mae_df_30_xgb_unorm_form['MAE'],\n",
    "                         mode='lines+markers', name='MAE', line=dict(color='blue')))\n",
    "\n",
    "# Highlight half-hourly points\n",
    "half_hourly_points = mae_df_30_xgb_unorm_form[mae_df_30_xgb_unorm_form['forecast_horizon_hours'] % 1 != 0]\n",
    "fig.add_trace(go.Scatter(x=half_hourly_points['forecast_horizon_hours'], y=half_hourly_points['MAE'],\n",
    "                         mode='markers', name='Half-hourly Points', marker=dict(color='red', size=10)))\n",
    "\n",
    "# Update layout with titles and axis labels\n",
    "fig.update_layout(title='MAE across Different Forecast Horizons',\n",
    "                  xaxis_title='Forecast Horizon (hours)',\n",
    "                  yaxis_title='Mean Absolute Error (MAE)',\n",
    "                  template='plotly_white')\n",
    "\n",
    "# Show plot\n",
    "fig.show()\n"
   ]
  },
  {
   "cell_type": "code",
   "execution_count": null,
   "metadata": {},
   "outputs": [],
   "source": [
    "# Calculate the difference in MAE between consecutive forecast horizons\n",
    "mae_df_30_xgb_unorm_form['MAE_diff'] = mae_df_30_xgb_unorm_form['MAE'].diff().fillna(0)\n",
    "\n",
    "# Plotting the difference in MAE\n",
    "plt.figure(figsize=(10, 6))\n",
    "plt.plot(mae_df_30_xgb_unorm_form['forecast_horizon_hours'], abs(mae_df_30_xgb_unorm_form['MAE_diff']), marker='x', linestyle='--', color='g')\n",
    "plt.title('Absolute Difference in MAE across Forecast Horizons')\n",
    "plt.xlabel('Forecast Horizon (hours)')\n",
    "plt.ylabel('Difference in MAE')\n",
    "plt.grid(True)\n",
    "plt.show()\n"
   ]
  },
  {
   "cell_type": "markdown",
   "metadata": {},
   "source": [
    "mae_df_30_xgb_unorm_form.head(20)"
   ]
  },
  {
   "cell_type": "code",
   "execution_count": null,
   "metadata": {},
   "outputs": [],
   "source": [
    "pvlive_df"
   ]
  },
  {
   "cell_type": "code",
   "execution_count": null,
   "metadata": {},
   "outputs": [],
   "source": [
    "# Define the function to retrieve generation data for a given forecasting creation datetime from a dataframe\n",
    "def get_generation_for_forecasting_datetime(forecasting_datetime, df_name):\n",
    "    # Filter the dataframe by the given forecasting creation datetime\n",
    "    filtered_df = df_name[df_name['forecasting_creation_datetime_utc'] == forecasting_datetime]\n",
    "    \n",
    "    # Select only the relevant columns\n",
    "    result_df = filtered_df[['end_datetime_utc', 'generation_mw']]\n",
    "    \n",
    "    return result_df\n",
    "\n",
    "# Function to plot multiple forecasts on the same graph including pvlive_df for 2 days ahead\n",
    "def plot_multiple_forecasts_with_pvlive(forecasting_datetime, df_list, df_names, pvlive_df):\n",
    "    fig = go.Figure()\n",
    "    \n",
    "    # Convert forecasting_datetime to datetime object\n",
    "    forecasting_datetime_obj = datetime.strptime(forecasting_datetime, \"%Y-%m-%d %H:%M:%S%z\")\n",
    "    # Calculate 2 days ahead datetime\n",
    "    two_days_ahead_datetime = forecasting_datetime_obj + timedelta(days=1)\n",
    "    \n",
    "    # Filter pvlive_df for the range\n",
    "    pvlive_filtered = pvlive_df[(pvlive_df['start_datetime_utc'] >= forecasting_datetime) & (pvlive_df['end_datetime_utc'] <= two_days_ahead_datetime.isoformat())]\n",
    "    \n",
    "    # Add pvlive data to the plot\n",
    "    fig.add_trace(go.Scatter(x=pvlive_filtered['end_datetime_utc'], y=pvlive_filtered['generation_mw'], mode='lines', name='pvlive_data'))\n",
    "    \n",
    "    for df, name in zip(df_list, df_names):\n",
    "        generation_data = get_generation_for_forecasting_datetime(forecasting_datetime, df)\n",
    "        fig.add_trace(go.Scatter(x=generation_data['end_datetime_utc'], y=generation_data['generation_mw'], mode='lines', name=name))\n",
    "    \n",
    "    fig.update_layout(title=f'Generation Data for {forecasting_datetime} including pvlive data for 2 days ahead', xaxis_title='End Datetime UTC', yaxis_title='Generation MW')\n",
    "    fig.show()\n",
    "\n",
    "# Example usage\n",
    "forecasting_datetime = \"2022-07-05 06:30:00+00:00\"\n",
    "df_list = [df_30_xgb_unorm_form, df_pvnet_form]\n",
    "df_names = ['df_30_xgb_unorm_form', 'df_pvnet_form']\n",
    "\n",
    "plot_multiple_forecasts_with_pvlive(forecasting_datetime, df_list, df_names, pvlive_df)\n"
   ]
  },
  {
   "cell_type": "code",
   "execution_count": null,
   "metadata": {},
   "outputs": [],
   "source": [
    "# Create plot to simulat previous results from XGboost MAE vs Horizon\n",
    "\n",
    "# Create a DataFrame from the provided data\n",
    "data = {\n",
    "    \"Horizon\": [0, 1, 2, 4, 8, 16, 24, 36],\n",
    "    \"750\": [0.016, 0.021, 0.024, 0.025, 0.026, 0.025, 0.025, 0.026],\n",
    "    \"1000\": [0.010, 0.016, 0.018, 0.020, 0.020, 0.020, 0.020, 0.021],\n",
    "    \"1250\": [0.009, 0.014, 0.017, 0.019, 0.019, 0.018, 0.019, 0.019],\n",
    "    \"1500\": [0.009, 0.014, 0.016, 0.018, 0.019, 0.018, 0.018, 0.019]\n",
    "}\n",
    "\n",
    "df = pd.DataFrame(data)\n",
    "\n",
    "# Plotting with Plotly\n",
    "fig = go.Figure()\n",
    "\n",
    "fig.add_trace(go.Scatter(x=df[\"Horizon\"], y=df[\"750\"], mode='lines+markers', name='Error for column 750', marker=dict(symbol='circle')))\n",
    "fig.add_trace(go.Scatter(x=df[\"Horizon\"], y=df[\"1000\"], mode='lines+markers', name='Error for column 1000', marker=dict(symbol='x')))\n",
    "fig.add_trace(go.Scatter(x=df[\"Horizon\"], y=df[\"1250\"], mode='lines+markers', name='Error for column 1250', marker=dict(symbol='triangle-up')))\n",
    "fig.add_trace(go.Scatter(x=df[\"Horizon\"], y=df[\"1500\"], mode='lines+markers', name='Error for column 1500', marker=dict(symbol='square')))\n",
    "\n",
    "fig.update_layout(title='Error under columns 750, 1000, 1250, and 1500 vs. Horizon',\n",
    "                  xaxis_title='Horizon',\n",
    "                  yaxis_title='Error',\n",
    "                  template='plotly_white')\n",
    "\n",
    "fig.show()"
   ]
  }
 ],
 "metadata": {
  "kernelspec": {
   "display_name": "base",
   "language": "python",
   "name": "python3"
  },
  "language_info": {
   "codemirror_mode": {
    "name": "ipython",
    "version": 3
   },
   "file_extension": ".py",
   "mimetype": "text/x-python",
   "name": "python",
   "nbconvert_exporter": "python",
   "pygments_lexer": "ipython3",
   "version": "3.10.13"
  }
 },
 "nbformat": 4,
 "nbformat_minor": 2
}
