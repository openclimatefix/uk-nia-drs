{
 "cells": [
  {
   "cell_type": "code",
   "execution_count": 1,
   "metadata": {},
   "outputs": [],
   "source": [
    "import pandas as pd\n",
    "import numpy as np\n",
    "import plotly.graph_objects as go\n",
    "from datetime import datetime, timedelta\n",
    "pd.options.display.max_rows = 100"
   ]
  },
  {
   "cell_type": "code",
   "execution_count": 9,
   "metadata": {},
   "outputs": [],
   "source": [
    "pv_models = [\n",
    "    # \"full_predictions_cross_validation_v4_without_prob_with_30min_unormalised_formated\",\n",
    "    # \"pvnet_predicitons_2021-2023_formated_v2\",\n",
    "    # # \"full_pred_v6_2_xgb_pvnet_blend\",\n",
    "    # \"forecast_v=6__model_name=national_xg__model_version=1.0.23__start_date=2016-12-01__end_date=2022-08-08\",\n",
    "    # # \"forecast_v=7__model_name=national_xg_and_pv_net__model_version=2.0.0__start_date=2016-12-01__end_date=2022-08-08\",\n",
    "    # # \"full_pred_v5_2_xgb_pvnet_merge_formated_fix_ts\",\n",
    "    \"forecast_v=7__model_name_1=national_xg__model_version_1=1.0.23__model_name_2=pv_net__model_version_2=2.6.10__start_date=2016-12-01__end_date=2022-08-08\",\n",
    "    # # \"full_pred_v5_3_xgb_pvnet_merge_formated_fix_ts_blend\",\n",
    "    # # \"full_pred_v6_2_xgb_pvnet_blend\",\n",
    "    \"full_pred_v6_3_xgb_pvnet_blend\",\n",
    "    # \"full_pred_v8_1_2_xgb_pvnet_no_blend_formated\",\n",
    "    \"full_pred_v8_2_1_xgb_pvnet_with_blend_formated\",\n",
    "    \"full_pred_v8_5_1_xgb_pvnet_with_blend_formated\"\n",
    "]\n",
    "\n",
    "model_mapping = {\n",
    "    \"full_predictions_cross_validation_v4_without_prob_with_30min_unormalised_formated\":\"v6.1 XGB + Inter + Bug Fix \",\n",
    "    \"pvnet_predicitons_2021-2023_formated_v2\":\"v7 PVNet 2020-2022\",\n",
    "    # \"full_pred_v6_2_xgb_pvnet_blend\":\"df_pvnet_form_2\",\n",
    "    \"forecast_v=6__model_name=national_xg__model_version=1.0.23__start_date=2016-12-01__end_date=2022-08-08\":\"v6 XGb\",\n",
    "    # \"forecast_v=7__model_name=national_xg_and_pv_net__model_version=2.0.0__start_date=2016-12-01__end_date=2022-08-08\":\"model_v7_df\",\n",
    "    # \"full_pred_v5_2_xgb_pvnet_merge_formated_fix_ts\":\"model_v7_df_v2\",\n",
    "    \"forecast_v=7__model_name_1=national_xg__model_version_1=1.0.23__model_name_2=pv_net__model_version_2=2.6.10__start_date=2016-12-01__end_date=2022-08-08\":\"v7 XGb/PVNet\",\n",
    "    # \"full_pred_v5_3_xgb_pvnet_merge_formated_fix_ts_blend\":\"model_v7_df_v3\",\n",
    "    # \"full_pred_v6_2_xgb_pvnet_blend\":\"model_v7_df_v4_blend\",\n",
    "    \"full_pred_v6_3_xgb_pvnet_blend\":\"v7 XGb/PVNet + Blend\",\n",
    "    \"full_pred_v8_1_2_xgb_pvnet_no_blend_formated\":\"v8 XGb/PVNet Sum\",\n",
    "    \"full_pred_v8_2_1_xgb_pvnet_with_blend_formated\":\"v8 XGb/PVNet Sum + Blend\",\n",
    "    \"full_pred_v8_5_1_xgb_pvnet_with_blend_formated\":\"v8 XGb/PVNet Sum + Blend v2\"\n",
    "}\n",
    "\n",
    "pvlive_df = pd.read_csv(\"../pvlive_2016_2022.csv\")"
   ]
  },
  {
   "cell_type": "code",
   "execution_count": 10,
   "metadata": {},
   "outputs": [],
   "source": [
    "def calculate_mae_for_forecast_horizons(pv_models, df_actual, min_end_datetime_utc=None):\n",
    "    mae_results = []  # List to store MAE results for each model\n",
    "\n",
    "    for pv_model in pv_models:\n",
    "        print(pv_model)\n",
    "        try:\n",
    "            df_forecast = pd.read_csv(\"../data/\" + pv_model + \".csv.gz\")\n",
    "        except FileNotFoundError:\n",
    "            df_forecast = pd.read_csv(\"../data/\" + pv_model + \".csv\")\n",
    "        merged_df = pd.merge(df_forecast, df_actual, on='end_datetime_utc', suffixes=('_forecast', '_actual'))\n",
    "\n",
    "        # Filter the merged dataframe by the minimum end_datetime_utc if provided\n",
    "        if min_end_datetime_utc is not None:\n",
    "            merged_df['end_datetime_utc'] = pd.to_datetime(merged_df['end_datetime_utc'])\n",
    "            merged_df = merged_df[merged_df['end_datetime_utc'] >= min_end_datetime_utc]\n",
    "\n",
    "            max_end_datetime_utc = pd.to_datetime(\"2020-01-01 00:00:00\").tz_localize('UTC')\n",
    "            merged_df = merged_df[merged_df['end_datetime_utc'] <= max_end_datetime_utc]\n",
    "\n",
    "        # Calculate the absolute error between the forecasted and actual generation\n",
    "        merged_df['absolute_error'] = np.abs(merged_df['generation_mw_forecast'] - merged_df['generation_mw_actual'])\n",
    "        # Calculate the forecast horizon in hours\n",
    "        merged_df['forecast_horizon_hours'] = (pd.to_datetime(merged_df['end_datetime_utc']) - pd.to_datetime(merged_df['forecasting_creation_datetime_utc'])).dt.total_seconds() / 3600\n",
    "        mae_by_horizon = merged_df.groupby('forecast_horizon_hours')['absolute_error'].mean().reset_index(name='MAE')\n",
    "\n",
    "        # Add a column for the model name\n",
    "        mae_by_horizon['Model'] = pv_model\n",
    "\n",
    "        mae_results.append(mae_by_horizon)\n",
    "\n",
    "    # Concatenate all MAE results into a single DataFrame\n",
    "    merged_forecasts = pd.concat(mae_results)\n",
    "\n",
    "    merged_forecasts['Model'] = merged_forecasts['Model'].replace(model_mapping)\n",
    "\n",
    "    return merged_forecasts"
   ]
  },
  {
   "cell_type": "code",
   "execution_count": 11,
   "metadata": {},
   "outputs": [
    {
     "name": "stdout",
     "output_type": "stream",
     "text": [
      "forecast_v=7__model_name_1=national_xg__model_version_1=1.0.23__model_name_2=pv_net__model_version_2=2.6.10__start_date=2016-12-01__end_date=2022-08-08\n",
      "full_pred_v6_3_xgb_pvnet_blend\n",
      "full_pred_v8_2_1_xgb_pvnet_with_blend_formated\n",
      "full_pred_v8_5_1_xgb_pvnet_with_blend_formated\n"
     ]
    }
   ],
   "source": [
    "mae_results = calculate_mae_for_forecast_horizons(pv_models, pvlive_df)"
   ]
  },
  {
   "cell_type": "code",
   "execution_count": 13,
   "metadata": {},
   "outputs": [
    {
     "data": {
      "text/html": [
       "<div>\n",
       "<style scoped>\n",
       "    .dataframe tbody tr th:only-of-type {\n",
       "        vertical-align: middle;\n",
       "    }\n",
       "\n",
       "    .dataframe tbody tr th {\n",
       "        vertical-align: top;\n",
       "    }\n",
       "\n",
       "    .dataframe thead th {\n",
       "        text-align: right;\n",
       "    }\n",
       "</style>\n",
       "<table border=\"1\" class=\"dataframe\">\n",
       "  <thead>\n",
       "    <tr style=\"text-align: right;\">\n",
       "      <th></th>\n",
       "      <th>forecast_horizon_hours</th>\n",
       "      <th>MAE</th>\n",
       "      <th>Model</th>\n",
       "    </tr>\n",
       "  </thead>\n",
       "  <tbody>\n",
       "    <tr>\n",
       "      <th>0</th>\n",
       "      <td>0.0</td>\n",
       "      <td>115.395093</td>\n",
       "      <td>v7 XGb/PVNet</td>\n",
       "    </tr>\n",
       "    <tr>\n",
       "      <th>1</th>\n",
       "      <td>0.5</td>\n",
       "      <td>135.870877</td>\n",
       "      <td>v7 XGb/PVNet</td>\n",
       "    </tr>\n",
       "    <tr>\n",
       "      <th>2</th>\n",
       "      <td>1.0</td>\n",
       "      <td>148.720270</td>\n",
       "      <td>v7 XGb/PVNet</td>\n",
       "    </tr>\n",
       "    <tr>\n",
       "      <th>3</th>\n",
       "      <td>1.5</td>\n",
       "      <td>170.553101</td>\n",
       "      <td>v7 XGb/PVNet</td>\n",
       "    </tr>\n",
       "    <tr>\n",
       "      <th>4</th>\n",
       "      <td>2.0</td>\n",
       "      <td>187.024768</td>\n",
       "      <td>v7 XGb/PVNet</td>\n",
       "    </tr>\n",
       "    <tr>\n",
       "      <th>...</th>\n",
       "      <td>...</td>\n",
       "      <td>...</td>\n",
       "      <td>...</td>\n",
       "    </tr>\n",
       "    <tr>\n",
       "      <th>76</th>\n",
       "      <td>38.0</td>\n",
       "      <td>244.722297</td>\n",
       "      <td>v8 XGb/PVNet Sum + Blend v2</td>\n",
       "    </tr>\n",
       "    <tr>\n",
       "      <th>77</th>\n",
       "      <td>38.5</td>\n",
       "      <td>256.024284</td>\n",
       "      <td>v8 XGb/PVNet Sum + Blend v2</td>\n",
       "    </tr>\n",
       "    <tr>\n",
       "      <th>78</th>\n",
       "      <td>39.0</td>\n",
       "      <td>257.639912</td>\n",
       "      <td>v8 XGb/PVNet Sum + Blend v2</td>\n",
       "    </tr>\n",
       "    <tr>\n",
       "      <th>79</th>\n",
       "      <td>39.5</td>\n",
       "      <td>271.194385</td>\n",
       "      <td>v8 XGb/PVNet Sum + Blend v2</td>\n",
       "    </tr>\n",
       "    <tr>\n",
       "      <th>80</th>\n",
       "      <td>40.0</td>\n",
       "      <td>273.641380</td>\n",
       "      <td>v8 XGb/PVNet Sum + Blend v2</td>\n",
       "    </tr>\n",
       "  </tbody>\n",
       "</table>\n",
       "<p>324 rows × 3 columns</p>\n",
       "</div>"
      ],
      "text/plain": [
       "    forecast_horizon_hours         MAE                        Model\n",
       "0                      0.0  115.395093                 v7 XGb/PVNet\n",
       "1                      0.5  135.870877                 v7 XGb/PVNet\n",
       "2                      1.0  148.720270                 v7 XGb/PVNet\n",
       "3                      1.5  170.553101                 v7 XGb/PVNet\n",
       "4                      2.0  187.024768                 v7 XGb/PVNet\n",
       "..                     ...         ...                          ...\n",
       "76                    38.0  244.722297  v8 XGb/PVNet Sum + Blend v2\n",
       "77                    38.5  256.024284  v8 XGb/PVNet Sum + Blend v2\n",
       "78                    39.0  257.639912  v8 XGb/PVNet Sum + Blend v2\n",
       "79                    39.5  271.194385  v8 XGb/PVNet Sum + Blend v2\n",
       "80                    40.0  273.641380  v8 XGb/PVNet Sum + Blend v2\n",
       "\n",
       "[324 rows x 3 columns]"
      ]
     },
     "execution_count": 13,
     "metadata": {},
     "output_type": "execute_result"
    }
   ],
   "source": [
    "mae_results"
   ]
  },
  {
   "cell_type": "code",
   "execution_count": 11,
   "metadata": {},
   "outputs": [
    {
     "data": {
      "text/html": [
       "<div>\n",
       "<style scoped>\n",
       "    .dataframe tbody tr th:only-of-type {\n",
       "        vertical-align: middle;\n",
       "    }\n",
       "\n",
       "    .dataframe tbody tr th {\n",
       "        vertical-align: top;\n",
       "    }\n",
       "\n",
       "    .dataframe thead th {\n",
       "        text-align: right;\n",
       "    }\n",
       "</style>\n",
       "<table border=\"1\" class=\"dataframe\">\n",
       "  <thead>\n",
       "    <tr style=\"text-align: right;\">\n",
       "      <th></th>\n",
       "      <th>forecast_horizon_hours</th>\n",
       "      <th>MAE</th>\n",
       "      <th>Model</th>\n",
       "    </tr>\n",
       "  </thead>\n",
       "  <tbody>\n",
       "  </tbody>\n",
       "</table>\n",
       "</div>"
      ],
      "text/plain": [
       "Empty DataFrame\n",
       "Columns: [forecast_horizon_hours, MAE, Model]\n",
       "Index: []"
      ]
     },
     "execution_count": 11,
     "metadata": {},
     "output_type": "execute_result"
    }
   ],
   "source": [
    "# Print the MAE results just for model: model_v7_df_v4_blend\n",
    "test = mae_results[mae_results['Model'] == 'model_v7_df_v4_blend']\n",
    "test"
   ]
  },
  {
   "cell_type": "code",
   "execution_count": 5,
   "metadata": {},
   "outputs": [],
   "source": [
    "def calculate_average_mae(df):\n",
    "    # Get the unique models from the DataFrame\n",
    "    models = df['Model'].unique()\n",
    "    \n",
    "    # Iterate through each model and calculate the average MAE for the specified time frames\n",
    "    for model in models:\n",
    "        model_df = df[df['Model'] == model]\n",
    "        \n",
    "        # Calculate average MAE for 0-8 hours\n",
    "        avg_mae_0_8 = model_df[model_df['forecast_horizon_hours'] <= 8]['MAE'].mean()\n",
    "        \n",
    "        # Calculate average MAE for 0-40 hours\n",
    "        avg_mae_0_40 = model_df[model_df['forecast_horizon_hours'] <= 40]['MAE'].mean()\n",
    "        \n",
    "        # Print the results\n",
    "        print(f\"Model: {model}\")\n",
    "        print(f\"Average MAE for 0-8 hours: {avg_mae_0_8:.2f}\")\n",
    "        print(f\"Average MAE for 0-40 hours: {avg_mae_0_40:.2f}\")\n"
   ]
  },
  {
   "cell_type": "code",
   "execution_count": 6,
   "metadata": {},
   "outputs": [
    {
     "name": "stdout",
     "output_type": "stream",
     "text": [
      "Model: v7 XGb/PVNet + Blend\n",
      "Average MAE for 0-8 hours: 180.53\n",
      "Average MAE for 0-40 hours: 221.28\n",
      "Model: v8 XGb/PVNet Sum + Blend\n",
      "Average MAE for 0-8 hours: 129.20\n",
      "Average MAE for 0-40 hours: 210.51\n",
      "Model: v8 XGb/PVNet Sum + Blend v2\n",
      "Average MAE for 0-8 hours: 131.17\n",
      "Average MAE for 0-40 hours: 210.92\n"
     ]
    }
   ],
   "source": [
    "calculate_average_mae(mae_results)"
   ]
  },
  {
   "cell_type": "code",
   "execution_count": 66,
   "metadata": {},
   "outputs": [
    {
     "name": "stdout",
     "output_type": "stream",
     "text": [
      "full_pred_v6_3_xgb_pvnet_blend\n",
      "full_pred_v8_2_1_xgb_pvnet_with_blend_formated\n"
     ]
    }
   ],
   "source": [
    "min_date = pd.to_datetime(\"2019-01-01 00:00:00\").tz_localize('UTC')\n",
    "mae_results_pvnet = calculate_mae_for_forecast_horizons(pv_models, pvlive_df, min_end_datetime_utc=min_date)"
   ]
  },
  {
   "cell_type": "code",
   "execution_count": 68,
   "metadata": {},
   "outputs": [
    {
     "name": "stdout",
     "output_type": "stream",
     "text": [
      "Model: v7 XGb/PVNet + Blend\n",
      "Average MAE for 0-8 hours: 187.97\n",
      "Average MAE for 0-40 hours: 215.20\n",
      "Model: v8 XGb/PVNet Sum + Blend\n",
      "Average MAE for 0-8 hours: 123.67\n",
      "Average MAE for 0-40 hours: 201.70\n"
     ]
    }
   ],
   "source": [
    "calculate_average_mae(mae_results_pvnet)"
   ]
  },
  {
   "cell_type": "code",
   "execution_count": 14,
   "metadata": {},
   "outputs": [],
   "source": [
    "def plot_multiple_mae_forecast_horizons(df):\n",
    "    # Create a plotly figure\n",
    "    fig = go.Figure()\n",
    "\n",
    "    colors = ['#7BCDF3', '#63BCAF', '#FF9736', '#FFD053' , '#14120E', '#4C9A8E']\n",
    "\n",
    "    # Get unique models\n",
    "    models = df['Model'].unique()\n",
    "    \n",
    "    # Sort models alphabetically\n",
    "    models = sorted(models)\n",
    "\n",
    "    for i, model in enumerate(models):\n",
    "        # Filter the DataFrame for the current model\n",
    "        model_df = df[df['Model'] == model]\n",
    "\n",
    "        # Add line plot for MAE across different forecast horizons with color\n",
    "        fig.add_trace(go.Scatter(x=model_df['forecast_horizon_hours'], y=model_df['MAE'],\n",
    "                                 mode='lines+markers', name=model, line=dict(color=colors[i % len(colors)])))\n",
    "\n",
    "    # Update layout with titles and axis labels\n",
    "    fig.update_layout(title='MAE for Multiple OCF Models',\n",
    "                      xaxis_title='Forecast Horizon',\n",
    "                      yaxis_title='Eror (MAE) MW',\n",
    "                      template='plotly_white')\n",
    "\n",
    "    # Show plot\n",
    "    fig.show()"
   ]
  },
  {
   "cell_type": "code",
   "execution_count": 15,
   "metadata": {},
   "outputs": [
    {
     "data": {
      "application/vnd.plotly.v1+json": {
       "config": {
        "plotlyServerURL": "https://plot.ly"
       },
       "data": [
        {
         "line": {
          "color": "#7BCDF3"
         },
         "mode": "lines+markers",
         "name": "v7 XGb/PVNet",
         "type": "scatter",
         "x": [
          0,
          0.5,
          1,
          1.5,
          2,
          2.5,
          3,
          3.5,
          4,
          4.5,
          5,
          5.5,
          6,
          6.5,
          7,
          7.5,
          8,
          8.5,
          9,
          9.5,
          10,
          10.5,
          11,
          11.5,
          12,
          12.5,
          13,
          13.5,
          14,
          14.5,
          15,
          15.5,
          16,
          16.5,
          17,
          17.5,
          18,
          18.5,
          19,
          19.5,
          20,
          20.5,
          21,
          21.5,
          22,
          22.5,
          23,
          23.5,
          24,
          24.5,
          25,
          25.5,
          26,
          26.5,
          27,
          27.5,
          28,
          28.5,
          29,
          29.5,
          30,
          30.5,
          31,
          31.5,
          32,
          32.5,
          33,
          33.5,
          34,
          34.5,
          35,
          35.5,
          36,
          36.5,
          37,
          37.5,
          38,
          38.5,
          39,
          39.5,
          40
         ],
         "y": [
          115.39509334520957,
          135.87087708413853,
          148.7202696853917,
          170.5531011273966,
          187.02476846109252,
          191.612034043966,
          188.9539947834568,
          193.03613141795051,
          190.30661956553536,
          193.7984772774726,
          190.43656736470896,
          194.80040397636307,
          192.21035426629447,
          195.07141007987295,
          193.27652452601893,
          197.0963395762915,
          196.51314812596172,
          224.42808944846584,
          218.68456159552935,
          225.24169876154832,
          219.223315546773,
          225.41173212487644,
          219.24733964997938,
          225.48054352585515,
          219.31563535533957,
          225.46813911238843,
          219.39205465530392,
          225.1660416913845,
          218.82865622649894,
          225.01831254734947,
          219.0106974006307,
          224.59035461714757,
          218.3280966005375,
          224.74923698756075,
          219.47753782014064,
          226.25309301749877,
          221.01127529148525,
          227.19049775397457,
          221.51963763232968,
          227.09327768614136,
          220.99261190092614,
          227.17163401751222,
          221.6470471705271,
          227.4147076878335,
          221.48734511100682,
          227.62767799092308,
          221.9900374889206,
          228.65142991174315,
          223.86818568640913,
          230.28911398133502,
          225.50365479620677,
          232.6402573141586,
          228.70270700467753,
          235.77108301123255,
          231.39329343745402,
          237.84560127611118,
          232.93555562015743,
          238.53192589804175,
          233.19147519517117,
          239.51026277785567,
          234.4550084849523,
          240.71726973458274,
          235.7697501383269,
          241.56734670739039,
          236.04693068187257,
          242.38076192815782,
          237.58479851287208,
          243.47443271086533,
          238.32242074315758,
          243.9683196679654,
          238.81240132510126,
          244.45281258416685,
          239.09636971995945,
          243.38677438035046,
          237.8406841698707,
          246.17497943349,
          244.72229655275527,
          256.0242841993797,
          257.6399119599084,
          271.19438481124325,
          273.6413799326272
         ]
        },
        {
         "line": {
          "color": "#63BCAF"
         },
         "mode": "lines+markers",
         "name": "v7 XGb/PVNet + Blend",
         "type": "scatter",
         "x": [
          0,
          0.5,
          1,
          1.5,
          2,
          2.5,
          3,
          3.5,
          4,
          4.5,
          5,
          5.5,
          6,
          6.5,
          7,
          7.5,
          8,
          8.5,
          9,
          9.5,
          10,
          10.5,
          11,
          11.5,
          12,
          12.5,
          13,
          13.5,
          14,
          14.5,
          15,
          15.5,
          16,
          16.5,
          17,
          17.5,
          18,
          18.5,
          19,
          19.5,
          20,
          20.5,
          21,
          21.5,
          22,
          22.5,
          23,
          23.5,
          24,
          24.5,
          25,
          25.5,
          26,
          26.5,
          27,
          27.5,
          28,
          28.5,
          29,
          29.5,
          30,
          30.5,
          31,
          31.5,
          32,
          32.5,
          33,
          33.5,
          34,
          34.5,
          35,
          35.5,
          36,
          36.5,
          37,
          37.5,
          38,
          38.5,
          39,
          39.5,
          40
         ],
         "y": [
          115.39509334520957,
          135.87087708413853,
          148.7202696853917,
          170.5531011273966,
          187.02476846109252,
          191.612034043966,
          188.9539947834568,
          193.03613141795051,
          190.30661956553536,
          193.7984772774726,
          190.43656736470896,
          194.80040397636307,
          192.21035426629447,
          195.07141007987295,
          186.4667466061572,
          193.2428869524273,
          201.51364382553706,
          224.42808944846584,
          218.68456159552935,
          225.24169876154832,
          219.223315546773,
          225.41173212487644,
          219.24733964997938,
          225.48054352585515,
          219.31563535533957,
          225.46813911238843,
          219.39205465530392,
          225.1660416913845,
          218.82865622649894,
          225.01831254734947,
          219.0106974006307,
          224.59035461714757,
          218.3280966005375,
          224.74923698756075,
          219.47753782014064,
          226.25309301749877,
          221.01127529148525,
          227.19049775397457,
          221.51963763232968,
          227.09327768614136,
          220.99261190092614,
          227.17163401751222,
          221.6470471705271,
          227.4147076878335,
          221.48734511100682,
          227.62767799092308,
          221.9900374889206,
          228.65142991174315,
          223.86818568640913,
          230.28911398133502,
          225.50365479620677,
          232.6402573141586,
          228.70270700467753,
          235.77108301123255,
          231.39329343745402,
          237.84560127611118,
          232.93555562015743,
          238.53192589804175,
          233.19147519517117,
          239.51026277785567,
          234.4550084849523,
          240.71726973458274,
          235.7697501383269,
          241.56734670739039,
          236.04693068187257,
          242.38076192815782,
          237.58479851287208,
          243.47443271086533,
          238.32242074315758,
          243.9683196679654,
          238.81240132510126,
          244.45281258416685,
          239.09636971995945,
          243.38677438035046,
          237.8406841698707,
          246.17497943349,
          244.72229655275527,
          256.0242841993797,
          257.6399119599084,
          271.19438481124325,
          273.6413799326272
         ]
        },
        {
         "line": {
          "color": "#FF9736"
         },
         "mode": "lines+markers",
         "name": "v8 XGb/PVNet Sum + Blend",
         "type": "scatter",
         "x": [
          0,
          0.5,
          1,
          1.5,
          2,
          2.5,
          3,
          3.5,
          4,
          4.5,
          5,
          5.5,
          6,
          6.5,
          7,
          7.5,
          8,
          8.5,
          9,
          9.5,
          10,
          10.5,
          11,
          11.5,
          12,
          12.5,
          13,
          13.5,
          14,
          14.5,
          15,
          15.5,
          16,
          16.5,
          17,
          17.5,
          18,
          18.5,
          19,
          19.5,
          20,
          20.5,
          21,
          21.5,
          22,
          22.5,
          23,
          23.5,
          24,
          24.5,
          25,
          25.5,
          26,
          26.5,
          27,
          27.5,
          28,
          28.5,
          29,
          29.5,
          30,
          30.5,
          31,
          31.5,
          32,
          32.5,
          33,
          33.5,
          34,
          34.5,
          35,
          35.5,
          36,
          36.5,
          37,
          37.5,
          38,
          38.5,
          39,
          39.5,
          40
         ],
         "y": [
          97.16314491166203,
          103.64961463571018,
          108.9391810881756,
          117.32137097891444,
          124.62807517763551,
          126.37059303779522,
          126.69156843906062,
          127.92022307076452,
          127.68400985385118,
          128.5878447763579,
          127.9099284109626,
          129.437484886364,
          129.95274640598808,
          131.96756191394275,
          138.50502747416147,
          162.49762882665704,
          187.14385579436245,
          224.42808944846584,
          218.68456159552935,
          225.24169876154832,
          219.223315546773,
          225.41173212487644,
          219.24733964997938,
          225.48054352585515,
          219.31563535533957,
          225.46813911238843,
          219.39205465530392,
          225.1660416913845,
          218.82865622649894,
          225.01831254734947,
          219.0106974006307,
          224.59035461714757,
          218.3280966005375,
          224.74923698756075,
          219.47753782014064,
          226.25309301749877,
          221.01127529148525,
          227.19049775397457,
          221.51963763232968,
          227.09327768614136,
          220.99261190092614,
          227.17163401751222,
          221.6470471705271,
          227.4147076878335,
          221.48734511100682,
          227.62767799092308,
          221.9900374889206,
          228.65142991174315,
          223.86818568640913,
          230.28911398133502,
          225.50365479620677,
          232.6402573141586,
          228.70270700467753,
          235.77108301123255,
          231.39329343745402,
          237.84560127611118,
          232.93555562015743,
          238.53192589804175,
          233.19147519517117,
          239.51026277785567,
          234.4550084849523,
          240.71726973458274,
          235.7697501383269,
          241.56734670739039,
          236.04693068187257,
          242.38076192815782,
          237.58479851287208,
          243.47443271086533,
          238.32242074315758,
          243.9683196679654,
          238.81240132510126,
          244.45281258416685,
          239.09636971995945,
          243.38677438035046,
          237.8406841698707,
          246.17497943349,
          244.72229655275527,
          256.0242841993797,
          257.6399119599084,
          271.19438481124325,
          273.6413799326272
         ]
        },
        {
         "line": {
          "color": "#FFD053"
         },
         "mode": "lines+markers",
         "name": "v8 XGb/PVNet Sum + Blend v2",
         "type": "scatter",
         "x": [
          0,
          0.5,
          1,
          1.5,
          2,
          2.5,
          3,
          3.5,
          4,
          4.5,
          5,
          5.5,
          6,
          6.5,
          7,
          7.5,
          8,
          8.5,
          9,
          9.5,
          10,
          10.5,
          11,
          11.5,
          12,
          12.5,
          13,
          13.5,
          14,
          14.5,
          15,
          15.5,
          16,
          16.5,
          17,
          17.5,
          18,
          18.5,
          19,
          19.5,
          20,
          20.5,
          21,
          21.5,
          22,
          22.5,
          23,
          23.5,
          24,
          24.5,
          25,
          25.5,
          26,
          26.5,
          27,
          27.5,
          28,
          28.5,
          29,
          29.5,
          30,
          30.5,
          31,
          31.5,
          32,
          32.5,
          33,
          33.5,
          34,
          34.5,
          35,
          35.5,
          36,
          36.5,
          37,
          37.5,
          38,
          38.5,
          39,
          39.5,
          40
         ],
         "y": [
          98.33396529128798,
          104.70538298061501,
          110.38850659357279,
          119.31415338718183,
          126.94361969088393,
          128.59180394960651,
          128.8047097542026,
          130.1620770850556,
          129.9213816340146,
          131.03850301929847,
          130.46791287919507,
          131.9435649579106,
          132.2508831919435,
          134.3042860083605,
          140.71222604955827,
          164.08343404686818,
          187.9615182196675,
          224.42808944846584,
          218.68456159552935,
          225.24169876154832,
          219.223315546773,
          225.41173212487644,
          219.24733964997938,
          225.48054352585515,
          219.31563535533957,
          225.46813911238843,
          219.39205465530392,
          225.1660416913845,
          218.82865622649894,
          225.01831254734947,
          219.0106974006307,
          224.59035461714757,
          218.3280966005375,
          224.74923698756075,
          219.47753782014064,
          226.25309301749877,
          221.01127529148525,
          227.19049775397457,
          221.51963763232968,
          227.09327768614136,
          220.99261190092614,
          227.17163401751222,
          221.6470471705271,
          227.4147076878335,
          221.48734511100682,
          227.62767799092308,
          221.9900374889206,
          228.65142991174315,
          223.86818568640913,
          230.28911398133502,
          225.50365479620677,
          232.6402573141586,
          228.70270700467753,
          235.77108301123255,
          231.39329343745402,
          237.84560127611118,
          232.93555562015743,
          238.53192589804175,
          233.19147519517117,
          239.51026277785567,
          234.4550084849523,
          240.71726973458274,
          235.7697501383269,
          241.56734670739039,
          236.04693068187257,
          242.38076192815782,
          237.58479851287208,
          243.47443271086533,
          238.32242074315758,
          243.9683196679654,
          238.81240132510126,
          244.45281258416685,
          239.09636971995945,
          243.38677438035046,
          237.8406841698707,
          246.17497943349,
          244.72229655275527,
          256.0242841993797,
          257.6399119599084,
          271.19438481124325,
          273.6413799326272
         ]
        }
       ],
       "layout": {
        "template": {
         "data": {
          "bar": [
           {
            "error_x": {
             "color": "#2a3f5f"
            },
            "error_y": {
             "color": "#2a3f5f"
            },
            "marker": {
             "line": {
              "color": "white",
              "width": 0.5
             },
             "pattern": {
              "fillmode": "overlay",
              "size": 10,
              "solidity": 0.2
             }
            },
            "type": "bar"
           }
          ],
          "barpolar": [
           {
            "marker": {
             "line": {
              "color": "white",
              "width": 0.5
             },
             "pattern": {
              "fillmode": "overlay",
              "size": 10,
              "solidity": 0.2
             }
            },
            "type": "barpolar"
           }
          ],
          "carpet": [
           {
            "aaxis": {
             "endlinecolor": "#2a3f5f",
             "gridcolor": "#C8D4E3",
             "linecolor": "#C8D4E3",
             "minorgridcolor": "#C8D4E3",
             "startlinecolor": "#2a3f5f"
            },
            "baxis": {
             "endlinecolor": "#2a3f5f",
             "gridcolor": "#C8D4E3",
             "linecolor": "#C8D4E3",
             "minorgridcolor": "#C8D4E3",
             "startlinecolor": "#2a3f5f"
            },
            "type": "carpet"
           }
          ],
          "choropleth": [
           {
            "colorbar": {
             "outlinewidth": 0,
             "ticks": ""
            },
            "type": "choropleth"
           }
          ],
          "contour": [
           {
            "colorbar": {
             "outlinewidth": 0,
             "ticks": ""
            },
            "colorscale": [
             [
              0,
              "#0d0887"
             ],
             [
              0.1111111111111111,
              "#46039f"
             ],
             [
              0.2222222222222222,
              "#7201a8"
             ],
             [
              0.3333333333333333,
              "#9c179e"
             ],
             [
              0.4444444444444444,
              "#bd3786"
             ],
             [
              0.5555555555555556,
              "#d8576b"
             ],
             [
              0.6666666666666666,
              "#ed7953"
             ],
             [
              0.7777777777777778,
              "#fb9f3a"
             ],
             [
              0.8888888888888888,
              "#fdca26"
             ],
             [
              1,
              "#f0f921"
             ]
            ],
            "type": "contour"
           }
          ],
          "contourcarpet": [
           {
            "colorbar": {
             "outlinewidth": 0,
             "ticks": ""
            },
            "type": "contourcarpet"
           }
          ],
          "heatmap": [
           {
            "colorbar": {
             "outlinewidth": 0,
             "ticks": ""
            },
            "colorscale": [
             [
              0,
              "#0d0887"
             ],
             [
              0.1111111111111111,
              "#46039f"
             ],
             [
              0.2222222222222222,
              "#7201a8"
             ],
             [
              0.3333333333333333,
              "#9c179e"
             ],
             [
              0.4444444444444444,
              "#bd3786"
             ],
             [
              0.5555555555555556,
              "#d8576b"
             ],
             [
              0.6666666666666666,
              "#ed7953"
             ],
             [
              0.7777777777777778,
              "#fb9f3a"
             ],
             [
              0.8888888888888888,
              "#fdca26"
             ],
             [
              1,
              "#f0f921"
             ]
            ],
            "type": "heatmap"
           }
          ],
          "heatmapgl": [
           {
            "colorbar": {
             "outlinewidth": 0,
             "ticks": ""
            },
            "colorscale": [
             [
              0,
              "#0d0887"
             ],
             [
              0.1111111111111111,
              "#46039f"
             ],
             [
              0.2222222222222222,
              "#7201a8"
             ],
             [
              0.3333333333333333,
              "#9c179e"
             ],
             [
              0.4444444444444444,
              "#bd3786"
             ],
             [
              0.5555555555555556,
              "#d8576b"
             ],
             [
              0.6666666666666666,
              "#ed7953"
             ],
             [
              0.7777777777777778,
              "#fb9f3a"
             ],
             [
              0.8888888888888888,
              "#fdca26"
             ],
             [
              1,
              "#f0f921"
             ]
            ],
            "type": "heatmapgl"
           }
          ],
          "histogram": [
           {
            "marker": {
             "pattern": {
              "fillmode": "overlay",
              "size": 10,
              "solidity": 0.2
             }
            },
            "type": "histogram"
           }
          ],
          "histogram2d": [
           {
            "colorbar": {
             "outlinewidth": 0,
             "ticks": ""
            },
            "colorscale": [
             [
              0,
              "#0d0887"
             ],
             [
              0.1111111111111111,
              "#46039f"
             ],
             [
              0.2222222222222222,
              "#7201a8"
             ],
             [
              0.3333333333333333,
              "#9c179e"
             ],
             [
              0.4444444444444444,
              "#bd3786"
             ],
             [
              0.5555555555555556,
              "#d8576b"
             ],
             [
              0.6666666666666666,
              "#ed7953"
             ],
             [
              0.7777777777777778,
              "#fb9f3a"
             ],
             [
              0.8888888888888888,
              "#fdca26"
             ],
             [
              1,
              "#f0f921"
             ]
            ],
            "type": "histogram2d"
           }
          ],
          "histogram2dcontour": [
           {
            "colorbar": {
             "outlinewidth": 0,
             "ticks": ""
            },
            "colorscale": [
             [
              0,
              "#0d0887"
             ],
             [
              0.1111111111111111,
              "#46039f"
             ],
             [
              0.2222222222222222,
              "#7201a8"
             ],
             [
              0.3333333333333333,
              "#9c179e"
             ],
             [
              0.4444444444444444,
              "#bd3786"
             ],
             [
              0.5555555555555556,
              "#d8576b"
             ],
             [
              0.6666666666666666,
              "#ed7953"
             ],
             [
              0.7777777777777778,
              "#fb9f3a"
             ],
             [
              0.8888888888888888,
              "#fdca26"
             ],
             [
              1,
              "#f0f921"
             ]
            ],
            "type": "histogram2dcontour"
           }
          ],
          "mesh3d": [
           {
            "colorbar": {
             "outlinewidth": 0,
             "ticks": ""
            },
            "type": "mesh3d"
           }
          ],
          "parcoords": [
           {
            "line": {
             "colorbar": {
              "outlinewidth": 0,
              "ticks": ""
             }
            },
            "type": "parcoords"
           }
          ],
          "pie": [
           {
            "automargin": true,
            "type": "pie"
           }
          ],
          "scatter": [
           {
            "fillpattern": {
             "fillmode": "overlay",
             "size": 10,
             "solidity": 0.2
            },
            "type": "scatter"
           }
          ],
          "scatter3d": [
           {
            "line": {
             "colorbar": {
              "outlinewidth": 0,
              "ticks": ""
             }
            },
            "marker": {
             "colorbar": {
              "outlinewidth": 0,
              "ticks": ""
             }
            },
            "type": "scatter3d"
           }
          ],
          "scattercarpet": [
           {
            "marker": {
             "colorbar": {
              "outlinewidth": 0,
              "ticks": ""
             }
            },
            "type": "scattercarpet"
           }
          ],
          "scattergeo": [
           {
            "marker": {
             "colorbar": {
              "outlinewidth": 0,
              "ticks": ""
             }
            },
            "type": "scattergeo"
           }
          ],
          "scattergl": [
           {
            "marker": {
             "colorbar": {
              "outlinewidth": 0,
              "ticks": ""
             }
            },
            "type": "scattergl"
           }
          ],
          "scattermapbox": [
           {
            "marker": {
             "colorbar": {
              "outlinewidth": 0,
              "ticks": ""
             }
            },
            "type": "scattermapbox"
           }
          ],
          "scatterpolar": [
           {
            "marker": {
             "colorbar": {
              "outlinewidth": 0,
              "ticks": ""
             }
            },
            "type": "scatterpolar"
           }
          ],
          "scatterpolargl": [
           {
            "marker": {
             "colorbar": {
              "outlinewidth": 0,
              "ticks": ""
             }
            },
            "type": "scatterpolargl"
           }
          ],
          "scatterternary": [
           {
            "marker": {
             "colorbar": {
              "outlinewidth": 0,
              "ticks": ""
             }
            },
            "type": "scatterternary"
           }
          ],
          "surface": [
           {
            "colorbar": {
             "outlinewidth": 0,
             "ticks": ""
            },
            "colorscale": [
             [
              0,
              "#0d0887"
             ],
             [
              0.1111111111111111,
              "#46039f"
             ],
             [
              0.2222222222222222,
              "#7201a8"
             ],
             [
              0.3333333333333333,
              "#9c179e"
             ],
             [
              0.4444444444444444,
              "#bd3786"
             ],
             [
              0.5555555555555556,
              "#d8576b"
             ],
             [
              0.6666666666666666,
              "#ed7953"
             ],
             [
              0.7777777777777778,
              "#fb9f3a"
             ],
             [
              0.8888888888888888,
              "#fdca26"
             ],
             [
              1,
              "#f0f921"
             ]
            ],
            "type": "surface"
           }
          ],
          "table": [
           {
            "cells": {
             "fill": {
              "color": "#EBF0F8"
             },
             "line": {
              "color": "white"
             }
            },
            "header": {
             "fill": {
              "color": "#C8D4E3"
             },
             "line": {
              "color": "white"
             }
            },
            "type": "table"
           }
          ]
         },
         "layout": {
          "annotationdefaults": {
           "arrowcolor": "#2a3f5f",
           "arrowhead": 0,
           "arrowwidth": 1
          },
          "autotypenumbers": "strict",
          "coloraxis": {
           "colorbar": {
            "outlinewidth": 0,
            "ticks": ""
           }
          },
          "colorscale": {
           "diverging": [
            [
             0,
             "#8e0152"
            ],
            [
             0.1,
             "#c51b7d"
            ],
            [
             0.2,
             "#de77ae"
            ],
            [
             0.3,
             "#f1b6da"
            ],
            [
             0.4,
             "#fde0ef"
            ],
            [
             0.5,
             "#f7f7f7"
            ],
            [
             0.6,
             "#e6f5d0"
            ],
            [
             0.7,
             "#b8e186"
            ],
            [
             0.8,
             "#7fbc41"
            ],
            [
             0.9,
             "#4d9221"
            ],
            [
             1,
             "#276419"
            ]
           ],
           "sequential": [
            [
             0,
             "#0d0887"
            ],
            [
             0.1111111111111111,
             "#46039f"
            ],
            [
             0.2222222222222222,
             "#7201a8"
            ],
            [
             0.3333333333333333,
             "#9c179e"
            ],
            [
             0.4444444444444444,
             "#bd3786"
            ],
            [
             0.5555555555555556,
             "#d8576b"
            ],
            [
             0.6666666666666666,
             "#ed7953"
            ],
            [
             0.7777777777777778,
             "#fb9f3a"
            ],
            [
             0.8888888888888888,
             "#fdca26"
            ],
            [
             1,
             "#f0f921"
            ]
           ],
           "sequentialminus": [
            [
             0,
             "#0d0887"
            ],
            [
             0.1111111111111111,
             "#46039f"
            ],
            [
             0.2222222222222222,
             "#7201a8"
            ],
            [
             0.3333333333333333,
             "#9c179e"
            ],
            [
             0.4444444444444444,
             "#bd3786"
            ],
            [
             0.5555555555555556,
             "#d8576b"
            ],
            [
             0.6666666666666666,
             "#ed7953"
            ],
            [
             0.7777777777777778,
             "#fb9f3a"
            ],
            [
             0.8888888888888888,
             "#fdca26"
            ],
            [
             1,
             "#f0f921"
            ]
           ]
          },
          "colorway": [
           "#636efa",
           "#EF553B",
           "#00cc96",
           "#ab63fa",
           "#FFA15A",
           "#19d3f3",
           "#FF6692",
           "#B6E880",
           "#FF97FF",
           "#FECB52"
          ],
          "font": {
           "color": "#2a3f5f"
          },
          "geo": {
           "bgcolor": "white",
           "lakecolor": "white",
           "landcolor": "white",
           "showlakes": true,
           "showland": true,
           "subunitcolor": "#C8D4E3"
          },
          "hoverlabel": {
           "align": "left"
          },
          "hovermode": "closest",
          "mapbox": {
           "style": "light"
          },
          "paper_bgcolor": "white",
          "plot_bgcolor": "white",
          "polar": {
           "angularaxis": {
            "gridcolor": "#EBF0F8",
            "linecolor": "#EBF0F8",
            "ticks": ""
           },
           "bgcolor": "white",
           "radialaxis": {
            "gridcolor": "#EBF0F8",
            "linecolor": "#EBF0F8",
            "ticks": ""
           }
          },
          "scene": {
           "xaxis": {
            "backgroundcolor": "white",
            "gridcolor": "#DFE8F3",
            "gridwidth": 2,
            "linecolor": "#EBF0F8",
            "showbackground": true,
            "ticks": "",
            "zerolinecolor": "#EBF0F8"
           },
           "yaxis": {
            "backgroundcolor": "white",
            "gridcolor": "#DFE8F3",
            "gridwidth": 2,
            "linecolor": "#EBF0F8",
            "showbackground": true,
            "ticks": "",
            "zerolinecolor": "#EBF0F8"
           },
           "zaxis": {
            "backgroundcolor": "white",
            "gridcolor": "#DFE8F3",
            "gridwidth": 2,
            "linecolor": "#EBF0F8",
            "showbackground": true,
            "ticks": "",
            "zerolinecolor": "#EBF0F8"
           }
          },
          "shapedefaults": {
           "line": {
            "color": "#2a3f5f"
           }
          },
          "ternary": {
           "aaxis": {
            "gridcolor": "#DFE8F3",
            "linecolor": "#A2B1C6",
            "ticks": ""
           },
           "baxis": {
            "gridcolor": "#DFE8F3",
            "linecolor": "#A2B1C6",
            "ticks": ""
           },
           "bgcolor": "white",
           "caxis": {
            "gridcolor": "#DFE8F3",
            "linecolor": "#A2B1C6",
            "ticks": ""
           }
          },
          "title": {
           "x": 0.05
          },
          "xaxis": {
           "automargin": true,
           "gridcolor": "#EBF0F8",
           "linecolor": "#EBF0F8",
           "ticks": "",
           "title": {
            "standoff": 15
           },
           "zerolinecolor": "#EBF0F8",
           "zerolinewidth": 2
          },
          "yaxis": {
           "automargin": true,
           "gridcolor": "#EBF0F8",
           "linecolor": "#EBF0F8",
           "ticks": "",
           "title": {
            "standoff": 15
           },
           "zerolinecolor": "#EBF0F8",
           "zerolinewidth": 2
          }
         }
        },
        "title": {
         "text": "MAE for Multiple OCF Models"
        },
        "xaxis": {
         "title": {
          "text": "Forecast Horizon"
         }
        },
        "yaxis": {
         "title": {
          "text": "Eror (MAE) MW"
         }
        }
       }
      },
      "text/html": [
       "<div>                            <div id=\"60c3c830-1025-4abf-b3e2-8e6bac95595b\" class=\"plotly-graph-div\" style=\"height:525px; width:100%;\"></div>            <script type=\"text/javascript\">                require([\"plotly\"], function(Plotly) {                    window.PLOTLYENV=window.PLOTLYENV || {};                                    if (document.getElementById(\"60c3c830-1025-4abf-b3e2-8e6bac95595b\")) {                    Plotly.newPlot(                        \"60c3c830-1025-4abf-b3e2-8e6bac95595b\",                        [{\"line\":{\"color\":\"#7BCDF3\"},\"mode\":\"lines+markers\",\"name\":\"v7 XGb\\u002fPVNet\",\"x\":[0.0,0.5,1.0,1.5,2.0,2.5,3.0,3.5,4.0,4.5,5.0,5.5,6.0,6.5,7.0,7.5,8.0,8.5,9.0,9.5,10.0,10.5,11.0,11.5,12.0,12.5,13.0,13.5,14.0,14.5,15.0,15.5,16.0,16.5,17.0,17.5,18.0,18.5,19.0,19.5,20.0,20.5,21.0,21.5,22.0,22.5,23.0,23.5,24.0,24.5,25.0,25.5,26.0,26.5,27.0,27.5,28.0,28.5,29.0,29.5,30.0,30.5,31.0,31.5,32.0,32.5,33.0,33.5,34.0,34.5,35.0,35.5,36.0,36.5,37.0,37.5,38.0,38.5,39.0,39.5,40.0],\"y\":[115.39509334520957,135.87087708413853,148.7202696853917,170.5531011273966,187.02476846109252,191.612034043966,188.9539947834568,193.03613141795051,190.30661956553536,193.7984772774726,190.43656736470896,194.80040397636307,192.21035426629447,195.07141007987295,193.27652452601893,197.0963395762915,196.51314812596172,224.42808944846584,218.68456159552935,225.24169876154832,219.223315546773,225.41173212487644,219.24733964997938,225.48054352585515,219.31563535533957,225.46813911238843,219.39205465530392,225.1660416913845,218.82865622649894,225.01831254734947,219.0106974006307,224.59035461714757,218.3280966005375,224.74923698756075,219.47753782014064,226.25309301749877,221.01127529148525,227.19049775397457,221.51963763232968,227.09327768614136,220.99261190092614,227.17163401751222,221.6470471705271,227.4147076878335,221.48734511100682,227.62767799092308,221.9900374889206,228.65142991174315,223.86818568640913,230.28911398133502,225.50365479620677,232.6402573141586,228.70270700467753,235.77108301123255,231.39329343745402,237.84560127611118,232.93555562015743,238.53192589804175,233.19147519517117,239.51026277785567,234.4550084849523,240.71726973458274,235.7697501383269,241.56734670739039,236.04693068187257,242.38076192815782,237.58479851287208,243.47443271086533,238.32242074315758,243.9683196679654,238.81240132510126,244.45281258416685,239.09636971995945,243.38677438035046,237.8406841698707,246.17497943349,244.72229655275527,256.0242841993797,257.6399119599084,271.19438481124325,273.6413799326272],\"type\":\"scatter\"},{\"line\":{\"color\":\"#63BCAF\"},\"mode\":\"lines+markers\",\"name\":\"v7 XGb\\u002fPVNet + Blend\",\"x\":[0.0,0.5,1.0,1.5,2.0,2.5,3.0,3.5,4.0,4.5,5.0,5.5,6.0,6.5,7.0,7.5,8.0,8.5,9.0,9.5,10.0,10.5,11.0,11.5,12.0,12.5,13.0,13.5,14.0,14.5,15.0,15.5,16.0,16.5,17.0,17.5,18.0,18.5,19.0,19.5,20.0,20.5,21.0,21.5,22.0,22.5,23.0,23.5,24.0,24.5,25.0,25.5,26.0,26.5,27.0,27.5,28.0,28.5,29.0,29.5,30.0,30.5,31.0,31.5,32.0,32.5,33.0,33.5,34.0,34.5,35.0,35.5,36.0,36.5,37.0,37.5,38.0,38.5,39.0,39.5,40.0],\"y\":[115.39509334520957,135.87087708413853,148.7202696853917,170.5531011273966,187.02476846109252,191.612034043966,188.9539947834568,193.03613141795051,190.30661956553536,193.7984772774726,190.43656736470896,194.80040397636307,192.21035426629447,195.07141007987295,186.4667466061572,193.2428869524273,201.51364382553706,224.42808944846584,218.68456159552935,225.24169876154832,219.223315546773,225.41173212487644,219.24733964997938,225.48054352585515,219.31563535533957,225.46813911238843,219.39205465530392,225.1660416913845,218.82865622649894,225.01831254734947,219.0106974006307,224.59035461714757,218.3280966005375,224.74923698756075,219.47753782014064,226.25309301749877,221.01127529148525,227.19049775397457,221.51963763232968,227.09327768614136,220.99261190092614,227.17163401751222,221.6470471705271,227.4147076878335,221.48734511100682,227.62767799092308,221.9900374889206,228.65142991174315,223.86818568640913,230.28911398133502,225.50365479620677,232.6402573141586,228.70270700467753,235.77108301123255,231.39329343745402,237.84560127611118,232.93555562015743,238.53192589804175,233.19147519517117,239.51026277785567,234.4550084849523,240.71726973458274,235.7697501383269,241.56734670739039,236.04693068187257,242.38076192815782,237.58479851287208,243.47443271086533,238.32242074315758,243.9683196679654,238.81240132510126,244.45281258416685,239.09636971995945,243.38677438035046,237.8406841698707,246.17497943349,244.72229655275527,256.0242841993797,257.6399119599084,271.19438481124325,273.6413799326272],\"type\":\"scatter\"},{\"line\":{\"color\":\"#FF9736\"},\"mode\":\"lines+markers\",\"name\":\"v8 XGb\\u002fPVNet Sum + Blend\",\"x\":[0.0,0.5,1.0,1.5,2.0,2.5,3.0,3.5,4.0,4.5,5.0,5.5,6.0,6.5,7.0,7.5,8.0,8.5,9.0,9.5,10.0,10.5,11.0,11.5,12.0,12.5,13.0,13.5,14.0,14.5,15.0,15.5,16.0,16.5,17.0,17.5,18.0,18.5,19.0,19.5,20.0,20.5,21.0,21.5,22.0,22.5,23.0,23.5,24.0,24.5,25.0,25.5,26.0,26.5,27.0,27.5,28.0,28.5,29.0,29.5,30.0,30.5,31.0,31.5,32.0,32.5,33.0,33.5,34.0,34.5,35.0,35.5,36.0,36.5,37.0,37.5,38.0,38.5,39.0,39.5,40.0],\"y\":[97.16314491166203,103.64961463571018,108.9391810881756,117.32137097891444,124.62807517763551,126.37059303779522,126.69156843906062,127.92022307076452,127.68400985385118,128.5878447763579,127.9099284109626,129.437484886364,129.95274640598808,131.96756191394275,138.50502747416147,162.49762882665704,187.14385579436245,224.42808944846584,218.68456159552935,225.24169876154832,219.223315546773,225.41173212487644,219.24733964997938,225.48054352585515,219.31563535533957,225.46813911238843,219.39205465530392,225.1660416913845,218.82865622649894,225.01831254734947,219.0106974006307,224.59035461714757,218.3280966005375,224.74923698756075,219.47753782014064,226.25309301749877,221.01127529148525,227.19049775397457,221.51963763232968,227.09327768614136,220.99261190092614,227.17163401751222,221.6470471705271,227.4147076878335,221.48734511100682,227.62767799092308,221.9900374889206,228.65142991174315,223.86818568640913,230.28911398133502,225.50365479620677,232.6402573141586,228.70270700467753,235.77108301123255,231.39329343745402,237.84560127611118,232.93555562015743,238.53192589804175,233.19147519517117,239.51026277785567,234.4550084849523,240.71726973458274,235.7697501383269,241.56734670739039,236.04693068187257,242.38076192815782,237.58479851287208,243.47443271086533,238.32242074315758,243.9683196679654,238.81240132510126,244.45281258416685,239.09636971995945,243.38677438035046,237.8406841698707,246.17497943349,244.72229655275527,256.0242841993797,257.6399119599084,271.19438481124325,273.6413799326272],\"type\":\"scatter\"},{\"line\":{\"color\":\"#FFD053\"},\"mode\":\"lines+markers\",\"name\":\"v8 XGb\\u002fPVNet Sum + Blend v2\",\"x\":[0.0,0.5,1.0,1.5,2.0,2.5,3.0,3.5,4.0,4.5,5.0,5.5,6.0,6.5,7.0,7.5,8.0,8.5,9.0,9.5,10.0,10.5,11.0,11.5,12.0,12.5,13.0,13.5,14.0,14.5,15.0,15.5,16.0,16.5,17.0,17.5,18.0,18.5,19.0,19.5,20.0,20.5,21.0,21.5,22.0,22.5,23.0,23.5,24.0,24.5,25.0,25.5,26.0,26.5,27.0,27.5,28.0,28.5,29.0,29.5,30.0,30.5,31.0,31.5,32.0,32.5,33.0,33.5,34.0,34.5,35.0,35.5,36.0,36.5,37.0,37.5,38.0,38.5,39.0,39.5,40.0],\"y\":[98.33396529128798,104.70538298061501,110.38850659357279,119.31415338718183,126.94361969088393,128.59180394960651,128.8047097542026,130.1620770850556,129.9213816340146,131.03850301929847,130.46791287919507,131.9435649579106,132.2508831919435,134.3042860083605,140.71222604955827,164.08343404686818,187.9615182196675,224.42808944846584,218.68456159552935,225.24169876154832,219.223315546773,225.41173212487644,219.24733964997938,225.48054352585515,219.31563535533957,225.46813911238843,219.39205465530392,225.1660416913845,218.82865622649894,225.01831254734947,219.0106974006307,224.59035461714757,218.3280966005375,224.74923698756075,219.47753782014064,226.25309301749877,221.01127529148525,227.19049775397457,221.51963763232968,227.09327768614136,220.99261190092614,227.17163401751222,221.6470471705271,227.4147076878335,221.48734511100682,227.62767799092308,221.9900374889206,228.65142991174315,223.86818568640913,230.28911398133502,225.50365479620677,232.6402573141586,228.70270700467753,235.77108301123255,231.39329343745402,237.84560127611118,232.93555562015743,238.53192589804175,233.19147519517117,239.51026277785567,234.4550084849523,240.71726973458274,235.7697501383269,241.56734670739039,236.04693068187257,242.38076192815782,237.58479851287208,243.47443271086533,238.32242074315758,243.9683196679654,238.81240132510126,244.45281258416685,239.09636971995945,243.38677438035046,237.8406841698707,246.17497943349,244.72229655275527,256.0242841993797,257.6399119599084,271.19438481124325,273.6413799326272],\"type\":\"scatter\"}],                        {\"template\":{\"data\":{\"barpolar\":[{\"marker\":{\"line\":{\"color\":\"white\",\"width\":0.5},\"pattern\":{\"fillmode\":\"overlay\",\"size\":10,\"solidity\":0.2}},\"type\":\"barpolar\"}],\"bar\":[{\"error_x\":{\"color\":\"#2a3f5f\"},\"error_y\":{\"color\":\"#2a3f5f\"},\"marker\":{\"line\":{\"color\":\"white\",\"width\":0.5},\"pattern\":{\"fillmode\":\"overlay\",\"size\":10,\"solidity\":0.2}},\"type\":\"bar\"}],\"carpet\":[{\"aaxis\":{\"endlinecolor\":\"#2a3f5f\",\"gridcolor\":\"#C8D4E3\",\"linecolor\":\"#C8D4E3\",\"minorgridcolor\":\"#C8D4E3\",\"startlinecolor\":\"#2a3f5f\"},\"baxis\":{\"endlinecolor\":\"#2a3f5f\",\"gridcolor\":\"#C8D4E3\",\"linecolor\":\"#C8D4E3\",\"minorgridcolor\":\"#C8D4E3\",\"startlinecolor\":\"#2a3f5f\"},\"type\":\"carpet\"}],\"choropleth\":[{\"colorbar\":{\"outlinewidth\":0,\"ticks\":\"\"},\"type\":\"choropleth\"}],\"contourcarpet\":[{\"colorbar\":{\"outlinewidth\":0,\"ticks\":\"\"},\"type\":\"contourcarpet\"}],\"contour\":[{\"colorbar\":{\"outlinewidth\":0,\"ticks\":\"\"},\"colorscale\":[[0.0,\"#0d0887\"],[0.1111111111111111,\"#46039f\"],[0.2222222222222222,\"#7201a8\"],[0.3333333333333333,\"#9c179e\"],[0.4444444444444444,\"#bd3786\"],[0.5555555555555556,\"#d8576b\"],[0.6666666666666666,\"#ed7953\"],[0.7777777777777778,\"#fb9f3a\"],[0.8888888888888888,\"#fdca26\"],[1.0,\"#f0f921\"]],\"type\":\"contour\"}],\"heatmapgl\":[{\"colorbar\":{\"outlinewidth\":0,\"ticks\":\"\"},\"colorscale\":[[0.0,\"#0d0887\"],[0.1111111111111111,\"#46039f\"],[0.2222222222222222,\"#7201a8\"],[0.3333333333333333,\"#9c179e\"],[0.4444444444444444,\"#bd3786\"],[0.5555555555555556,\"#d8576b\"],[0.6666666666666666,\"#ed7953\"],[0.7777777777777778,\"#fb9f3a\"],[0.8888888888888888,\"#fdca26\"],[1.0,\"#f0f921\"]],\"type\":\"heatmapgl\"}],\"heatmap\":[{\"colorbar\":{\"outlinewidth\":0,\"ticks\":\"\"},\"colorscale\":[[0.0,\"#0d0887\"],[0.1111111111111111,\"#46039f\"],[0.2222222222222222,\"#7201a8\"],[0.3333333333333333,\"#9c179e\"],[0.4444444444444444,\"#bd3786\"],[0.5555555555555556,\"#d8576b\"],[0.6666666666666666,\"#ed7953\"],[0.7777777777777778,\"#fb9f3a\"],[0.8888888888888888,\"#fdca26\"],[1.0,\"#f0f921\"]],\"type\":\"heatmap\"}],\"histogram2dcontour\":[{\"colorbar\":{\"outlinewidth\":0,\"ticks\":\"\"},\"colorscale\":[[0.0,\"#0d0887\"],[0.1111111111111111,\"#46039f\"],[0.2222222222222222,\"#7201a8\"],[0.3333333333333333,\"#9c179e\"],[0.4444444444444444,\"#bd3786\"],[0.5555555555555556,\"#d8576b\"],[0.6666666666666666,\"#ed7953\"],[0.7777777777777778,\"#fb9f3a\"],[0.8888888888888888,\"#fdca26\"],[1.0,\"#f0f921\"]],\"type\":\"histogram2dcontour\"}],\"histogram2d\":[{\"colorbar\":{\"outlinewidth\":0,\"ticks\":\"\"},\"colorscale\":[[0.0,\"#0d0887\"],[0.1111111111111111,\"#46039f\"],[0.2222222222222222,\"#7201a8\"],[0.3333333333333333,\"#9c179e\"],[0.4444444444444444,\"#bd3786\"],[0.5555555555555556,\"#d8576b\"],[0.6666666666666666,\"#ed7953\"],[0.7777777777777778,\"#fb9f3a\"],[0.8888888888888888,\"#fdca26\"],[1.0,\"#f0f921\"]],\"type\":\"histogram2d\"}],\"histogram\":[{\"marker\":{\"pattern\":{\"fillmode\":\"overlay\",\"size\":10,\"solidity\":0.2}},\"type\":\"histogram\"}],\"mesh3d\":[{\"colorbar\":{\"outlinewidth\":0,\"ticks\":\"\"},\"type\":\"mesh3d\"}],\"parcoords\":[{\"line\":{\"colorbar\":{\"outlinewidth\":0,\"ticks\":\"\"}},\"type\":\"parcoords\"}],\"pie\":[{\"automargin\":true,\"type\":\"pie\"}],\"scatter3d\":[{\"line\":{\"colorbar\":{\"outlinewidth\":0,\"ticks\":\"\"}},\"marker\":{\"colorbar\":{\"outlinewidth\":0,\"ticks\":\"\"}},\"type\":\"scatter3d\"}],\"scattercarpet\":[{\"marker\":{\"colorbar\":{\"outlinewidth\":0,\"ticks\":\"\"}},\"type\":\"scattercarpet\"}],\"scattergeo\":[{\"marker\":{\"colorbar\":{\"outlinewidth\":0,\"ticks\":\"\"}},\"type\":\"scattergeo\"}],\"scattergl\":[{\"marker\":{\"colorbar\":{\"outlinewidth\":0,\"ticks\":\"\"}},\"type\":\"scattergl\"}],\"scattermapbox\":[{\"marker\":{\"colorbar\":{\"outlinewidth\":0,\"ticks\":\"\"}},\"type\":\"scattermapbox\"}],\"scatterpolargl\":[{\"marker\":{\"colorbar\":{\"outlinewidth\":0,\"ticks\":\"\"}},\"type\":\"scatterpolargl\"}],\"scatterpolar\":[{\"marker\":{\"colorbar\":{\"outlinewidth\":0,\"ticks\":\"\"}},\"type\":\"scatterpolar\"}],\"scatter\":[{\"fillpattern\":{\"fillmode\":\"overlay\",\"size\":10,\"solidity\":0.2},\"type\":\"scatter\"}],\"scatterternary\":[{\"marker\":{\"colorbar\":{\"outlinewidth\":0,\"ticks\":\"\"}},\"type\":\"scatterternary\"}],\"surface\":[{\"colorbar\":{\"outlinewidth\":0,\"ticks\":\"\"},\"colorscale\":[[0.0,\"#0d0887\"],[0.1111111111111111,\"#46039f\"],[0.2222222222222222,\"#7201a8\"],[0.3333333333333333,\"#9c179e\"],[0.4444444444444444,\"#bd3786\"],[0.5555555555555556,\"#d8576b\"],[0.6666666666666666,\"#ed7953\"],[0.7777777777777778,\"#fb9f3a\"],[0.8888888888888888,\"#fdca26\"],[1.0,\"#f0f921\"]],\"type\":\"surface\"}],\"table\":[{\"cells\":{\"fill\":{\"color\":\"#EBF0F8\"},\"line\":{\"color\":\"white\"}},\"header\":{\"fill\":{\"color\":\"#C8D4E3\"},\"line\":{\"color\":\"white\"}},\"type\":\"table\"}]},\"layout\":{\"annotationdefaults\":{\"arrowcolor\":\"#2a3f5f\",\"arrowhead\":0,\"arrowwidth\":1},\"autotypenumbers\":\"strict\",\"coloraxis\":{\"colorbar\":{\"outlinewidth\":0,\"ticks\":\"\"}},\"colorscale\":{\"diverging\":[[0,\"#8e0152\"],[0.1,\"#c51b7d\"],[0.2,\"#de77ae\"],[0.3,\"#f1b6da\"],[0.4,\"#fde0ef\"],[0.5,\"#f7f7f7\"],[0.6,\"#e6f5d0\"],[0.7,\"#b8e186\"],[0.8,\"#7fbc41\"],[0.9,\"#4d9221\"],[1,\"#276419\"]],\"sequential\":[[0.0,\"#0d0887\"],[0.1111111111111111,\"#46039f\"],[0.2222222222222222,\"#7201a8\"],[0.3333333333333333,\"#9c179e\"],[0.4444444444444444,\"#bd3786\"],[0.5555555555555556,\"#d8576b\"],[0.6666666666666666,\"#ed7953\"],[0.7777777777777778,\"#fb9f3a\"],[0.8888888888888888,\"#fdca26\"],[1.0,\"#f0f921\"]],\"sequentialminus\":[[0.0,\"#0d0887\"],[0.1111111111111111,\"#46039f\"],[0.2222222222222222,\"#7201a8\"],[0.3333333333333333,\"#9c179e\"],[0.4444444444444444,\"#bd3786\"],[0.5555555555555556,\"#d8576b\"],[0.6666666666666666,\"#ed7953\"],[0.7777777777777778,\"#fb9f3a\"],[0.8888888888888888,\"#fdca26\"],[1.0,\"#f0f921\"]]},\"colorway\":[\"#636efa\",\"#EF553B\",\"#00cc96\",\"#ab63fa\",\"#FFA15A\",\"#19d3f3\",\"#FF6692\",\"#B6E880\",\"#FF97FF\",\"#FECB52\"],\"font\":{\"color\":\"#2a3f5f\"},\"geo\":{\"bgcolor\":\"white\",\"lakecolor\":\"white\",\"landcolor\":\"white\",\"showlakes\":true,\"showland\":true,\"subunitcolor\":\"#C8D4E3\"},\"hoverlabel\":{\"align\":\"left\"},\"hovermode\":\"closest\",\"mapbox\":{\"style\":\"light\"},\"paper_bgcolor\":\"white\",\"plot_bgcolor\":\"white\",\"polar\":{\"angularaxis\":{\"gridcolor\":\"#EBF0F8\",\"linecolor\":\"#EBF0F8\",\"ticks\":\"\"},\"bgcolor\":\"white\",\"radialaxis\":{\"gridcolor\":\"#EBF0F8\",\"linecolor\":\"#EBF0F8\",\"ticks\":\"\"}},\"scene\":{\"xaxis\":{\"backgroundcolor\":\"white\",\"gridcolor\":\"#DFE8F3\",\"gridwidth\":2,\"linecolor\":\"#EBF0F8\",\"showbackground\":true,\"ticks\":\"\",\"zerolinecolor\":\"#EBF0F8\"},\"yaxis\":{\"backgroundcolor\":\"white\",\"gridcolor\":\"#DFE8F3\",\"gridwidth\":2,\"linecolor\":\"#EBF0F8\",\"showbackground\":true,\"ticks\":\"\",\"zerolinecolor\":\"#EBF0F8\"},\"zaxis\":{\"backgroundcolor\":\"white\",\"gridcolor\":\"#DFE8F3\",\"gridwidth\":2,\"linecolor\":\"#EBF0F8\",\"showbackground\":true,\"ticks\":\"\",\"zerolinecolor\":\"#EBF0F8\"}},\"shapedefaults\":{\"line\":{\"color\":\"#2a3f5f\"}},\"ternary\":{\"aaxis\":{\"gridcolor\":\"#DFE8F3\",\"linecolor\":\"#A2B1C6\",\"ticks\":\"\"},\"baxis\":{\"gridcolor\":\"#DFE8F3\",\"linecolor\":\"#A2B1C6\",\"ticks\":\"\"},\"bgcolor\":\"white\",\"caxis\":{\"gridcolor\":\"#DFE8F3\",\"linecolor\":\"#A2B1C6\",\"ticks\":\"\"}},\"title\":{\"x\":0.05},\"xaxis\":{\"automargin\":true,\"gridcolor\":\"#EBF0F8\",\"linecolor\":\"#EBF0F8\",\"ticks\":\"\",\"title\":{\"standoff\":15},\"zerolinecolor\":\"#EBF0F8\",\"zerolinewidth\":2},\"yaxis\":{\"automargin\":true,\"gridcolor\":\"#EBF0F8\",\"linecolor\":\"#EBF0F8\",\"ticks\":\"\",\"title\":{\"standoff\":15},\"zerolinecolor\":\"#EBF0F8\",\"zerolinewidth\":2}}},\"title\":{\"text\":\"MAE for Multiple OCF Models\"},\"xaxis\":{\"title\":{\"text\":\"Forecast Horizon\"}},\"yaxis\":{\"title\":{\"text\":\"Eror (MAE) MW\"}}},                        {\"responsive\": true}                    ).then(function(){\n",
       "                            \n",
       "var gd = document.getElementById('60c3c830-1025-4abf-b3e2-8e6bac95595b');\n",
       "var x = new MutationObserver(function (mutations, observer) {{\n",
       "        var display = window.getComputedStyle(gd).display;\n",
       "        if (!display || display === 'none') {{\n",
       "            console.log([gd, 'removed!']);\n",
       "            Plotly.purge(gd);\n",
       "            observer.disconnect();\n",
       "        }}\n",
       "}});\n",
       "\n",
       "// Listen for the removal of the full notebook cells\n",
       "var notebookContainer = gd.closest('#notebook-container');\n",
       "if (notebookContainer) {{\n",
       "    x.observe(notebookContainer, {childList: true});\n",
       "}}\n",
       "\n",
       "// Listen for the clearing of the current output cell\n",
       "var outputEl = gd.closest('.output');\n",
       "if (outputEl) {{\n",
       "    x.observe(outputEl, {childList: true});\n",
       "}}\n",
       "\n",
       "                        })                };                });            </script>        </div>"
      ]
     },
     "metadata": {},
     "output_type": "display_data"
    }
   ],
   "source": [
    "plot_multiple_mae_forecast_horizons(mae_results)"
   ]
  },
  {
   "cell_type": "code",
   "execution_count": null,
   "metadata": {},
   "outputs": [],
   "source": [
    "plot_multiple_mae_forecast_horizons(mae_results_pvnet)"
   ]
  },
  {
   "cell_type": "code",
   "execution_count": 38,
   "metadata": {},
   "outputs": [
    {
     "data": {
      "application/vnd.plotly.v1+json": {
       "config": {
        "plotlyServerURL": "https://plot.ly"
       },
       "data": [
        {
         "mode": "lines",
         "name": "pvlive_data",
         "type": "scatter",
         "x": [
          "2021-07-05 03:00:00+00:00",
          "2021-07-05 03:30:00+00:00",
          "2021-07-05 04:00:00+00:00",
          "2021-07-05 04:30:00+00:00",
          "2021-07-05 05:00:00+00:00",
          "2021-07-05 05:30:00+00:00",
          "2021-07-05 06:00:00+00:00",
          "2021-07-05 06:30:00+00:00",
          "2021-07-05 07:00:00+00:00",
          "2021-07-05 07:30:00+00:00",
          "2021-07-05 08:00:00+00:00",
          "2021-07-05 08:30:00+00:00",
          "2021-07-05 09:00:00+00:00",
          "2021-07-05 09:30:00+00:00",
          "2021-07-05 10:00:00+00:00",
          "2021-07-05 10:30:00+00:00",
          "2021-07-05 11:00:00+00:00",
          "2021-07-05 11:30:00+00:00",
          "2021-07-05 12:00:00+00:00",
          "2021-07-05 12:30:00+00:00",
          "2021-07-05 13:00:00+00:00",
          "2021-07-05 13:30:00+00:00",
          "2021-07-05 14:00:00+00:00",
          "2021-07-05 14:30:00+00:00",
          "2021-07-05 15:00:00+00:00",
          "2021-07-05 15:30:00+00:00",
          "2021-07-05 16:00:00+00:00",
          "2021-07-05 16:30:00+00:00",
          "2021-07-05 17:00:00+00:00",
          "2021-07-05 17:30:00+00:00",
          "2021-07-05 18:00:00+00:00",
          "2021-07-05 18:30:00+00:00",
          "2021-07-05 19:00:00+00:00",
          "2021-07-05 19:30:00+00:00",
          "2021-07-05 20:00:00+00:00",
          "2021-07-05 20:30:00+00:00",
          "2021-07-05 21:00:00+00:00",
          "2021-07-05 21:30:00+00:00",
          "2021-07-05 22:00:00+00:00",
          "2021-07-05 22:30:00+00:00",
          "2021-07-05 23:00:00+00:00",
          "2021-07-05 23:30:00+00:00",
          "2021-07-06 00:00:00+00:00",
          "2021-07-06 00:30:00+00:00",
          "2021-07-06 01:00:00+00:00",
          "2021-07-06 01:30:00+00:00",
          "2021-07-06 02:00:00+00:00",
          "2021-07-06 02:30:00+00:00",
          "2021-07-06 03:00:00+00:00",
          "2021-07-06 03:30:00+00:00",
          "2021-07-06 04:00:00+00:00",
          "2021-07-06 04:30:00+00:00",
          "2021-07-06 05:00:00+00:00",
          "2021-07-06 05:30:00+00:00",
          "2021-07-06 06:00:00+00:00",
          "2021-07-06 06:30:00+00:00",
          "2021-07-06 07:00:00+00:00",
          "2021-07-06 07:30:00+00:00",
          "2021-07-06 08:00:00+00:00",
          "2021-07-06 08:30:00+00:00",
          "2021-07-06 09:00:00+00:00",
          "2021-07-06 09:30:00+00:00",
          "2021-07-06 10:00:00+00:00",
          "2021-07-06 10:30:00+00:00",
          "2021-07-06 11:00:00+00:00",
          "2021-07-06 11:30:00+00:00",
          "2021-07-06 12:00:00+00:00",
          "2021-07-06 12:30:00+00:00",
          "2021-07-06 13:00:00+00:00",
          "2021-07-06 13:30:00+00:00",
          "2021-07-06 14:00:00+00:00",
          "2021-07-06 14:30:00+00:00",
          "2021-07-06 15:00:00+00:00",
          "2021-07-06 15:30:00+00:00",
          "2021-07-06 16:00:00+00:00",
          "2021-07-06 16:30:00+00:00",
          "2021-07-06 17:00:00+00:00",
          "2021-07-06 17:30:00+00:00",
          "2021-07-06 18:00:00+00:00",
          "2021-07-06 18:30:00+00:00",
          "2021-07-06 19:00:00+00:00",
          "2021-07-06 19:30:00+00:00",
          "2021-07-06 20:00:00+00:00",
          "2021-07-06 20:30:00+00:00",
          "2021-07-06 21:00:00+00:00",
          "2021-07-06 21:30:00+00:00",
          "2021-07-06 22:00:00+00:00",
          "2021-07-06 22:30:00+00:00",
          "2021-07-06 23:00:00+00:00",
          "2021-07-06 23:30:00+00:00"
         ],
         "y": [
          0,
          0,
          0.00000956794,
          4.15726,
          115.965,
          349.732,
          678.919,
          1266.86,
          1900.18,
          2555.45,
          3396.92,
          4260.53,
          4862.04,
          5089.95,
          5480.11,
          5711.07,
          6032.58,
          6276.07,
          6237.32,
          6668.34,
          6260.03,
          5641.17,
          5057.11,
          4439.2,
          3702.54,
          3055.06,
          2508.14,
          1814.46,
          1466.24,
          1094.03,
          779.86,
          469.5,
          270.089,
          121.307,
          39.9223,
          1.84175,
          0,
          0,
          0,
          0,
          0,
          0,
          0,
          0,
          0,
          0,
          0,
          0,
          0,
          0,
          0.000297183,
          22.0627,
          160.552,
          295.388,
          504.895,
          794.416,
          1249.24,
          1676.17,
          2296.53,
          2861.44,
          3370.87,
          3994.14,
          4434.02,
          4335.32,
          5199.38,
          4610.85,
          5175.21,
          4803.52,
          5374.98,
          5072.86,
          5668.5,
          4922.01,
          4211.06,
          3634.52,
          3636.42,
          2855.6,
          2254.6,
          1855.69,
          1374.17,
          766.017,
          498.974,
          229.175,
          68.7874,
          2.46214,
          0,
          0,
          0,
          0,
          0,
          0
         ]
        },
        {
         "mode": "lines",
         "name": "v6.1 XGB + Inter + Bug Fix ",
         "type": "scatter",
         "x": [
          "2021-07-05 02:30:00+00:00",
          "2021-07-05 03:00:00+00:00",
          "2021-07-05 03:30:00+00:00",
          "2021-07-05 04:00:00+00:00",
          "2021-07-05 04:30:00+00:00",
          "2021-07-05 05:00:00+00:00",
          "2021-07-05 05:30:00+00:00",
          "2021-07-05 06:00:00+00:00",
          "2021-07-05 06:30:00+00:00",
          "2021-07-05 07:00:00+00:00",
          "2021-07-05 07:30:00+00:00",
          "2021-07-05 08:00:00+00:00",
          "2021-07-05 08:30:00+00:00",
          "2021-07-05 09:00:00+00:00",
          "2021-07-05 09:30:00+00:00",
          "2021-07-05 10:00:00+00:00",
          "2021-07-05 10:30:00+00:00",
          "2021-07-05 11:00:00+00:00",
          "2021-07-05 11:30:00+00:00",
          "2021-07-05 12:00:00+00:00",
          "2021-07-05 12:30:00+00:00",
          "2021-07-05 13:00:00+00:00",
          "2021-07-05 13:30:00+00:00",
          "2021-07-05 14:00:00+00:00",
          "2021-07-05 14:30:00+00:00",
          "2021-07-05 15:00:00+00:00",
          "2021-07-05 15:30:00+00:00",
          "2021-07-05 16:00:00+00:00",
          "2021-07-05 16:30:00+00:00",
          "2021-07-05 17:00:00+00:00",
          "2021-07-05 17:30:00+00:00",
          "2021-07-05 18:00:00+00:00",
          "2021-07-05 18:30:00+00:00",
          "2021-07-05 19:00:00+00:00",
          "2021-07-05 19:30:00+00:00",
          "2021-07-05 20:00:00+00:00",
          "2021-07-05 20:30:00+00:00",
          "2021-07-05 21:00:00+00:00",
          "2021-07-05 21:30:00+00:00",
          "2021-07-05 22:00:00+00:00",
          "2021-07-05 22:30:00+00:00",
          "2021-07-05 23:00:00+00:00",
          "2021-07-05 23:30:00+00:00",
          "2021-07-06 00:00:00+00:00",
          "2021-07-06 00:30:00+00:00",
          "2021-07-06 01:00:00+00:00",
          "2021-07-06 01:30:00+00:00",
          "2021-07-06 02:00:00+00:00",
          "2021-07-06 02:30:00+00:00",
          "2021-07-06 03:00:00+00:00",
          "2021-07-06 03:30:00+00:00",
          "2021-07-06 04:00:00+00:00",
          "2021-07-06 04:30:00+00:00",
          "2021-07-06 05:00:00+00:00",
          "2021-07-06 05:30:00+00:00",
          "2021-07-06 06:00:00+00:00",
          "2021-07-06 06:30:00+00:00",
          "2021-07-06 07:00:00+00:00",
          "2021-07-06 07:30:00+00:00",
          "2021-07-06 08:00:00+00:00",
          "2021-07-06 08:30:00+00:00",
          "2021-07-06 09:00:00+00:00",
          "2021-07-06 09:30:00+00:00",
          "2021-07-06 10:00:00+00:00",
          "2021-07-06 10:30:00+00:00",
          "2021-07-06 11:00:00+00:00",
          "2021-07-06 11:30:00+00:00",
          "2021-07-06 12:00:00+00:00",
          "2021-07-06 12:30:00+00:00",
          "2021-07-06 13:00:00+00:00",
          "2021-07-06 13:30:00+00:00",
          "2021-07-06 14:00:00+00:00",
          "2021-07-06 14:30:00+00:00",
          "2021-07-06 15:00:00+00:00",
          "2021-07-06 15:30:00+00:00",
          "2021-07-06 16:00:00+00:00",
          "2021-07-06 16:30:00+00:00",
          "2021-07-06 17:00:00+00:00",
          "2021-07-06 17:30:00+00:00",
          "2021-07-06 18:00:00+00:00",
          "2021-07-06 18:30:00+00:00"
         ],
         "y": [
          0,
          0,
          0,
          0.0008652349,
          10.689369,
          115.561035,
          316.53647,
          616.6642,
          1028.3219,
          1588.1462,
          2315.53,
          3141.248,
          3965.0603,
          4697.7964,
          4969.717498243163,
          4989.7604211227,
          4922.78666863861,
          4986.790074506595,
          5460.307257495046,
          5460.251209579796,
          5460.195161664545,
          5450.485767597898,
          5440.776373531252,
          5339.948391719653,
          5239.120409908056,
          4867.371120173275,
          4495.621830438494,
          3897.0000554981366,
          3298.3782805577803,
          2724.8349235237383,
          2151.291566489696,
          1631.318121373563,
          1111.3446762574308,
          749.7035927560373,
          388.06250925464514,
          197.89653364190343,
          7.730558029163124,
          5.445985685774131,
          0,
          0,
          0,
          0,
          0,
          0,
          0,
          0,
          0,
          0,
          0,
          0,
          0,
          13.087962071089308,
          23.01465472341895,
          155.0657332118003,
          287.11681170018164,
          570.1832416724188,
          853.2496716446574,
          1201.3987064322412,
          1549.547741219825,
          2012.058313239838,
          2474.568885259851,
          2942.039848987899,
          3409.510812715947,
          3978.9882765598886,
          4548.46574040383,
          4930.635910151003,
          5312.806079898178,
          5414.5219574607145,
          5516.237835023253,
          5479.829673788189,
          5443.4215125531255,
          5317.440516689017,
          5191.459520824908,
          4730.412998979598,
          4269.366477134287,
          3822.05744044461,
          3374.7484037549334,
          2842.564476756921,
          2310.380549758911,
          1801.781152034032,
          1293.1817543091547
         ]
        },
        {
         "mode": "lines",
         "name": "v7 PVNet 2020-2022",
         "type": "scatter",
         "x": [
          "2021-07-05 02:30:00+00:00",
          "2021-07-05 03:00:00+00:00",
          "2021-07-05 03:30:00+00:00",
          "2021-07-05 04:00:00+00:00",
          "2021-07-05 04:30:00+00:00",
          "2021-07-05 05:00:00+00:00",
          "2021-07-05 05:30:00+00:00",
          "2021-07-05 06:00:00+00:00",
          "2021-07-05 06:30:00+00:00",
          "2021-07-05 07:00:00+00:00",
          "2021-07-05 07:30:00+00:00",
          "2021-07-05 08:00:00+00:00",
          "2021-07-05 08:30:00+00:00",
          "2021-07-05 09:00:00+00:00",
          "2021-07-05 09:30:00+00:00",
          "2021-07-05 10:00:00+00:00",
          "2021-07-05 10:30:00+00:00",
          "2021-07-05 11:00:00+00:00",
          "2021-07-05 11:30:00+00:00",
          "2021-07-05 12:00:00+00:00",
          "2021-07-05 12:30:00+00:00",
          "2021-07-05 13:00:00+00:00",
          "2021-07-05 13:30:00+00:00",
          "2021-07-05 14:00:00+00:00",
          "2021-07-05 14:30:00+00:00",
          "2021-07-05 15:00:00+00:00",
          "2021-07-05 15:30:00+00:00",
          "2021-07-05 16:00:00+00:00",
          "2021-07-05 16:30:00+00:00",
          "2021-07-05 17:00:00+00:00",
          "2021-07-05 17:30:00+00:00",
          "2021-07-05 18:00:00+00:00",
          "2021-07-05 18:30:00+00:00",
          "2021-07-05 19:00:00+00:00",
          "2021-07-05 19:30:00+00:00",
          "2021-07-05 20:00:00+00:00",
          "2021-07-05 20:30:00+00:00",
          "2021-07-05 21:00:00+00:00",
          "2021-07-05 21:30:00+00:00",
          "2021-07-05 22:00:00+00:00",
          "2021-07-05 22:30:00+00:00",
          "2021-07-05 23:00:00+00:00",
          "2021-07-05 23:30:00+00:00",
          "2021-07-06 00:00:00+00:00",
          "2021-07-06 00:30:00+00:00",
          "2021-07-06 01:00:00+00:00",
          "2021-07-06 01:30:00+00:00",
          "2021-07-06 02:00:00+00:00",
          "2021-07-06 02:30:00+00:00",
          "2021-07-06 03:00:00+00:00",
          "2021-07-06 03:30:00+00:00",
          "2021-07-06 04:00:00+00:00",
          "2021-07-06 04:30:00+00:00",
          "2021-07-06 05:00:00+00:00",
          "2021-07-06 05:30:00+00:00",
          "2021-07-06 06:00:00+00:00",
          "2021-07-06 06:30:00+00:00",
          "2021-07-06 07:00:00+00:00",
          "2021-07-06 07:30:00+00:00",
          "2021-07-06 08:00:00+00:00",
          "2021-07-06 08:30:00+00:00",
          "2021-07-06 09:00:00+00:00",
          "2021-07-06 09:30:00+00:00",
          "2021-07-06 10:00:00+00:00",
          "2021-07-06 10:30:00+00:00",
          "2021-07-06 11:00:00+00:00",
          "2021-07-06 11:30:00+00:00",
          "2021-07-06 12:00:00+00:00",
          "2021-07-06 12:30:00+00:00",
          "2021-07-06 13:00:00+00:00",
          "2021-07-06 13:30:00+00:00",
          "2021-07-06 14:00:00+00:00",
          "2021-07-06 14:30:00+00:00",
          "2021-07-06 15:00:00+00:00",
          "2021-07-06 15:30:00+00:00",
          "2021-07-06 16:00:00+00:00",
          "2021-07-06 16:30:00+00:00",
          "2021-07-06 17:00:00+00:00",
          "2021-07-06 17:30:00+00:00",
          "2021-07-06 18:00:00+00:00",
          "2021-07-06 18:30:00+00:00"
         ],
         "y": [
          0,
          0,
          0,
          0,
          0,
          138.56287,
          417.86404,
          804.0962,
          1255.4868,
          1787.9098,
          2421.4077,
          3117.2437,
          3829.5854,
          4483.7925,
          4772.825323243163,
          4880.9927711227,
          4866.47041863861,
          4986.790074506595,
          5460.307257495046,
          5460.251209579796,
          5460.195161664545,
          5450.485767597898,
          5440.776373531252,
          5339.948391719653,
          5239.120409908056,
          4867.371120173275,
          4495.621830438494,
          3897.0000554981366,
          3298.3782805577803,
          2724.8349235237383,
          2151.291566489696,
          1631.318121373563,
          1111.3446762574308,
          749.7035927560373,
          388.06250925464514,
          197.89653364190343,
          7.730558029163124,
          5.445985685774131,
          0,
          0,
          0,
          0,
          0,
          0,
          0,
          0,
          0,
          0,
          0,
          0,
          0,
          13.087962071089308,
          23.01465472341895,
          155.0657332118003,
          287.11681170018164,
          570.1832416724188,
          853.2496716446574,
          1201.3987064322412,
          1549.547741219825,
          2012.058313239838,
          2474.568885259851,
          2942.039848987899,
          3409.510812715947,
          3978.9882765598886,
          4548.46574040383,
          4930.635910151003,
          5312.806079898178,
          5414.5219574607145,
          5516.237835023253,
          5479.829673788189,
          5443.4215125531255,
          5317.440516689017,
          5191.459520824908,
          4730.412998979598,
          4269.366477134287,
          3822.05744044461,
          3374.7484037549334,
          2842.564476756921,
          2310.380549758911,
          1801.781152034032,
          1293.1817543091547
         ]
        }
       ],
       "layout": {
        "template": {
         "data": {
          "bar": [
           {
            "error_x": {
             "color": "#2a3f5f"
            },
            "error_y": {
             "color": "#2a3f5f"
            },
            "marker": {
             "line": {
              "color": "#E5ECF6",
              "width": 0.5
             },
             "pattern": {
              "fillmode": "overlay",
              "size": 10,
              "solidity": 0.2
             }
            },
            "type": "bar"
           }
          ],
          "barpolar": [
           {
            "marker": {
             "line": {
              "color": "#E5ECF6",
              "width": 0.5
             },
             "pattern": {
              "fillmode": "overlay",
              "size": 10,
              "solidity": 0.2
             }
            },
            "type": "barpolar"
           }
          ],
          "carpet": [
           {
            "aaxis": {
             "endlinecolor": "#2a3f5f",
             "gridcolor": "white",
             "linecolor": "white",
             "minorgridcolor": "white",
             "startlinecolor": "#2a3f5f"
            },
            "baxis": {
             "endlinecolor": "#2a3f5f",
             "gridcolor": "white",
             "linecolor": "white",
             "minorgridcolor": "white",
             "startlinecolor": "#2a3f5f"
            },
            "type": "carpet"
           }
          ],
          "choropleth": [
           {
            "colorbar": {
             "outlinewidth": 0,
             "ticks": ""
            },
            "type": "choropleth"
           }
          ],
          "contour": [
           {
            "colorbar": {
             "outlinewidth": 0,
             "ticks": ""
            },
            "colorscale": [
             [
              0,
              "#0d0887"
             ],
             [
              0.1111111111111111,
              "#46039f"
             ],
             [
              0.2222222222222222,
              "#7201a8"
             ],
             [
              0.3333333333333333,
              "#9c179e"
             ],
             [
              0.4444444444444444,
              "#bd3786"
             ],
             [
              0.5555555555555556,
              "#d8576b"
             ],
             [
              0.6666666666666666,
              "#ed7953"
             ],
             [
              0.7777777777777778,
              "#fb9f3a"
             ],
             [
              0.8888888888888888,
              "#fdca26"
             ],
             [
              1,
              "#f0f921"
             ]
            ],
            "type": "contour"
           }
          ],
          "contourcarpet": [
           {
            "colorbar": {
             "outlinewidth": 0,
             "ticks": ""
            },
            "type": "contourcarpet"
           }
          ],
          "heatmap": [
           {
            "colorbar": {
             "outlinewidth": 0,
             "ticks": ""
            },
            "colorscale": [
             [
              0,
              "#0d0887"
             ],
             [
              0.1111111111111111,
              "#46039f"
             ],
             [
              0.2222222222222222,
              "#7201a8"
             ],
             [
              0.3333333333333333,
              "#9c179e"
             ],
             [
              0.4444444444444444,
              "#bd3786"
             ],
             [
              0.5555555555555556,
              "#d8576b"
             ],
             [
              0.6666666666666666,
              "#ed7953"
             ],
             [
              0.7777777777777778,
              "#fb9f3a"
             ],
             [
              0.8888888888888888,
              "#fdca26"
             ],
             [
              1,
              "#f0f921"
             ]
            ],
            "type": "heatmap"
           }
          ],
          "heatmapgl": [
           {
            "colorbar": {
             "outlinewidth": 0,
             "ticks": ""
            },
            "colorscale": [
             [
              0,
              "#0d0887"
             ],
             [
              0.1111111111111111,
              "#46039f"
             ],
             [
              0.2222222222222222,
              "#7201a8"
             ],
             [
              0.3333333333333333,
              "#9c179e"
             ],
             [
              0.4444444444444444,
              "#bd3786"
             ],
             [
              0.5555555555555556,
              "#d8576b"
             ],
             [
              0.6666666666666666,
              "#ed7953"
             ],
             [
              0.7777777777777778,
              "#fb9f3a"
             ],
             [
              0.8888888888888888,
              "#fdca26"
             ],
             [
              1,
              "#f0f921"
             ]
            ],
            "type": "heatmapgl"
           }
          ],
          "histogram": [
           {
            "marker": {
             "pattern": {
              "fillmode": "overlay",
              "size": 10,
              "solidity": 0.2
             }
            },
            "type": "histogram"
           }
          ],
          "histogram2d": [
           {
            "colorbar": {
             "outlinewidth": 0,
             "ticks": ""
            },
            "colorscale": [
             [
              0,
              "#0d0887"
             ],
             [
              0.1111111111111111,
              "#46039f"
             ],
             [
              0.2222222222222222,
              "#7201a8"
             ],
             [
              0.3333333333333333,
              "#9c179e"
             ],
             [
              0.4444444444444444,
              "#bd3786"
             ],
             [
              0.5555555555555556,
              "#d8576b"
             ],
             [
              0.6666666666666666,
              "#ed7953"
             ],
             [
              0.7777777777777778,
              "#fb9f3a"
             ],
             [
              0.8888888888888888,
              "#fdca26"
             ],
             [
              1,
              "#f0f921"
             ]
            ],
            "type": "histogram2d"
           }
          ],
          "histogram2dcontour": [
           {
            "colorbar": {
             "outlinewidth": 0,
             "ticks": ""
            },
            "colorscale": [
             [
              0,
              "#0d0887"
             ],
             [
              0.1111111111111111,
              "#46039f"
             ],
             [
              0.2222222222222222,
              "#7201a8"
             ],
             [
              0.3333333333333333,
              "#9c179e"
             ],
             [
              0.4444444444444444,
              "#bd3786"
             ],
             [
              0.5555555555555556,
              "#d8576b"
             ],
             [
              0.6666666666666666,
              "#ed7953"
             ],
             [
              0.7777777777777778,
              "#fb9f3a"
             ],
             [
              0.8888888888888888,
              "#fdca26"
             ],
             [
              1,
              "#f0f921"
             ]
            ],
            "type": "histogram2dcontour"
           }
          ],
          "mesh3d": [
           {
            "colorbar": {
             "outlinewidth": 0,
             "ticks": ""
            },
            "type": "mesh3d"
           }
          ],
          "parcoords": [
           {
            "line": {
             "colorbar": {
              "outlinewidth": 0,
              "ticks": ""
             }
            },
            "type": "parcoords"
           }
          ],
          "pie": [
           {
            "automargin": true,
            "type": "pie"
           }
          ],
          "scatter": [
           {
            "fillpattern": {
             "fillmode": "overlay",
             "size": 10,
             "solidity": 0.2
            },
            "type": "scatter"
           }
          ],
          "scatter3d": [
           {
            "line": {
             "colorbar": {
              "outlinewidth": 0,
              "ticks": ""
             }
            },
            "marker": {
             "colorbar": {
              "outlinewidth": 0,
              "ticks": ""
             }
            },
            "type": "scatter3d"
           }
          ],
          "scattercarpet": [
           {
            "marker": {
             "colorbar": {
              "outlinewidth": 0,
              "ticks": ""
             }
            },
            "type": "scattercarpet"
           }
          ],
          "scattergeo": [
           {
            "marker": {
             "colorbar": {
              "outlinewidth": 0,
              "ticks": ""
             }
            },
            "type": "scattergeo"
           }
          ],
          "scattergl": [
           {
            "marker": {
             "colorbar": {
              "outlinewidth": 0,
              "ticks": ""
             }
            },
            "type": "scattergl"
           }
          ],
          "scattermapbox": [
           {
            "marker": {
             "colorbar": {
              "outlinewidth": 0,
              "ticks": ""
             }
            },
            "type": "scattermapbox"
           }
          ],
          "scatterpolar": [
           {
            "marker": {
             "colorbar": {
              "outlinewidth": 0,
              "ticks": ""
             }
            },
            "type": "scatterpolar"
           }
          ],
          "scatterpolargl": [
           {
            "marker": {
             "colorbar": {
              "outlinewidth": 0,
              "ticks": ""
             }
            },
            "type": "scatterpolargl"
           }
          ],
          "scatterternary": [
           {
            "marker": {
             "colorbar": {
              "outlinewidth": 0,
              "ticks": ""
             }
            },
            "type": "scatterternary"
           }
          ],
          "surface": [
           {
            "colorbar": {
             "outlinewidth": 0,
             "ticks": ""
            },
            "colorscale": [
             [
              0,
              "#0d0887"
             ],
             [
              0.1111111111111111,
              "#46039f"
             ],
             [
              0.2222222222222222,
              "#7201a8"
             ],
             [
              0.3333333333333333,
              "#9c179e"
             ],
             [
              0.4444444444444444,
              "#bd3786"
             ],
             [
              0.5555555555555556,
              "#d8576b"
             ],
             [
              0.6666666666666666,
              "#ed7953"
             ],
             [
              0.7777777777777778,
              "#fb9f3a"
             ],
             [
              0.8888888888888888,
              "#fdca26"
             ],
             [
              1,
              "#f0f921"
             ]
            ],
            "type": "surface"
           }
          ],
          "table": [
           {
            "cells": {
             "fill": {
              "color": "#EBF0F8"
             },
             "line": {
              "color": "white"
             }
            },
            "header": {
             "fill": {
              "color": "#C8D4E3"
             },
             "line": {
              "color": "white"
             }
            },
            "type": "table"
           }
          ]
         },
         "layout": {
          "annotationdefaults": {
           "arrowcolor": "#2a3f5f",
           "arrowhead": 0,
           "arrowwidth": 1
          },
          "autotypenumbers": "strict",
          "coloraxis": {
           "colorbar": {
            "outlinewidth": 0,
            "ticks": ""
           }
          },
          "colorscale": {
           "diverging": [
            [
             0,
             "#8e0152"
            ],
            [
             0.1,
             "#c51b7d"
            ],
            [
             0.2,
             "#de77ae"
            ],
            [
             0.3,
             "#f1b6da"
            ],
            [
             0.4,
             "#fde0ef"
            ],
            [
             0.5,
             "#f7f7f7"
            ],
            [
             0.6,
             "#e6f5d0"
            ],
            [
             0.7,
             "#b8e186"
            ],
            [
             0.8,
             "#7fbc41"
            ],
            [
             0.9,
             "#4d9221"
            ],
            [
             1,
             "#276419"
            ]
           ],
           "sequential": [
            [
             0,
             "#0d0887"
            ],
            [
             0.1111111111111111,
             "#46039f"
            ],
            [
             0.2222222222222222,
             "#7201a8"
            ],
            [
             0.3333333333333333,
             "#9c179e"
            ],
            [
             0.4444444444444444,
             "#bd3786"
            ],
            [
             0.5555555555555556,
             "#d8576b"
            ],
            [
             0.6666666666666666,
             "#ed7953"
            ],
            [
             0.7777777777777778,
             "#fb9f3a"
            ],
            [
             0.8888888888888888,
             "#fdca26"
            ],
            [
             1,
             "#f0f921"
            ]
           ],
           "sequentialminus": [
            [
             0,
             "#0d0887"
            ],
            [
             0.1111111111111111,
             "#46039f"
            ],
            [
             0.2222222222222222,
             "#7201a8"
            ],
            [
             0.3333333333333333,
             "#9c179e"
            ],
            [
             0.4444444444444444,
             "#bd3786"
            ],
            [
             0.5555555555555556,
             "#d8576b"
            ],
            [
             0.6666666666666666,
             "#ed7953"
            ],
            [
             0.7777777777777778,
             "#fb9f3a"
            ],
            [
             0.8888888888888888,
             "#fdca26"
            ],
            [
             1,
             "#f0f921"
            ]
           ]
          },
          "colorway": [
           "#636efa",
           "#EF553B",
           "#00cc96",
           "#ab63fa",
           "#FFA15A",
           "#19d3f3",
           "#FF6692",
           "#B6E880",
           "#FF97FF",
           "#FECB52"
          ],
          "font": {
           "color": "#2a3f5f"
          },
          "geo": {
           "bgcolor": "white",
           "lakecolor": "white",
           "landcolor": "#E5ECF6",
           "showlakes": true,
           "showland": true,
           "subunitcolor": "white"
          },
          "hoverlabel": {
           "align": "left"
          },
          "hovermode": "closest",
          "mapbox": {
           "style": "light"
          },
          "paper_bgcolor": "white",
          "plot_bgcolor": "#E5ECF6",
          "polar": {
           "angularaxis": {
            "gridcolor": "white",
            "linecolor": "white",
            "ticks": ""
           },
           "bgcolor": "#E5ECF6",
           "radialaxis": {
            "gridcolor": "white",
            "linecolor": "white",
            "ticks": ""
           }
          },
          "scene": {
           "xaxis": {
            "backgroundcolor": "#E5ECF6",
            "gridcolor": "white",
            "gridwidth": 2,
            "linecolor": "white",
            "showbackground": true,
            "ticks": "",
            "zerolinecolor": "white"
           },
           "yaxis": {
            "backgroundcolor": "#E5ECF6",
            "gridcolor": "white",
            "gridwidth": 2,
            "linecolor": "white",
            "showbackground": true,
            "ticks": "",
            "zerolinecolor": "white"
           },
           "zaxis": {
            "backgroundcolor": "#E5ECF6",
            "gridcolor": "white",
            "gridwidth": 2,
            "linecolor": "white",
            "showbackground": true,
            "ticks": "",
            "zerolinecolor": "white"
           }
          },
          "shapedefaults": {
           "line": {
            "color": "#2a3f5f"
           }
          },
          "ternary": {
           "aaxis": {
            "gridcolor": "white",
            "linecolor": "white",
            "ticks": ""
           },
           "baxis": {
            "gridcolor": "white",
            "linecolor": "white",
            "ticks": ""
           },
           "bgcolor": "#E5ECF6",
           "caxis": {
            "gridcolor": "white",
            "linecolor": "white",
            "ticks": ""
           }
          },
          "title": {
           "x": 0.05
          },
          "xaxis": {
           "automargin": true,
           "gridcolor": "white",
           "linecolor": "white",
           "ticks": "",
           "title": {
            "standoff": 15
           },
           "zerolinecolor": "white",
           "zerolinewidth": 2
          },
          "yaxis": {
           "automargin": true,
           "gridcolor": "white",
           "linecolor": "white",
           "ticks": "",
           "title": {
            "standoff": 15
           },
           "zerolinecolor": "white",
           "zerolinewidth": 2
          }
         }
        },
        "title": {
         "text": "Generation Data for 2021-07-05 02:30:00+00:00 including pvlive data for 2 days ahead"
        },
        "xaxis": {
         "title": {
          "text": "End Datetime UTC"
         }
        },
        "yaxis": {
         "title": {
          "text": "Generation MW"
         }
        }
       }
      },
      "text/html": [
       "<div>                            <div id=\"d37b312a-e442-4ff5-aef5-98602640f084\" class=\"plotly-graph-div\" style=\"height:525px; width:100%;\"></div>            <script type=\"text/javascript\">                require([\"plotly\"], function(Plotly) {                    window.PLOTLYENV=window.PLOTLYENV || {};                                    if (document.getElementById(\"d37b312a-e442-4ff5-aef5-98602640f084\")) {                    Plotly.newPlot(                        \"d37b312a-e442-4ff5-aef5-98602640f084\",                        [{\"mode\":\"lines\",\"name\":\"pvlive_data\",\"x\":[\"2021-07-05 03:00:00+00:00\",\"2021-07-05 03:30:00+00:00\",\"2021-07-05 04:00:00+00:00\",\"2021-07-05 04:30:00+00:00\",\"2021-07-05 05:00:00+00:00\",\"2021-07-05 05:30:00+00:00\",\"2021-07-05 06:00:00+00:00\",\"2021-07-05 06:30:00+00:00\",\"2021-07-05 07:00:00+00:00\",\"2021-07-05 07:30:00+00:00\",\"2021-07-05 08:00:00+00:00\",\"2021-07-05 08:30:00+00:00\",\"2021-07-05 09:00:00+00:00\",\"2021-07-05 09:30:00+00:00\",\"2021-07-05 10:00:00+00:00\",\"2021-07-05 10:30:00+00:00\",\"2021-07-05 11:00:00+00:00\",\"2021-07-05 11:30:00+00:00\",\"2021-07-05 12:00:00+00:00\",\"2021-07-05 12:30:00+00:00\",\"2021-07-05 13:00:00+00:00\",\"2021-07-05 13:30:00+00:00\",\"2021-07-05 14:00:00+00:00\",\"2021-07-05 14:30:00+00:00\",\"2021-07-05 15:00:00+00:00\",\"2021-07-05 15:30:00+00:00\",\"2021-07-05 16:00:00+00:00\",\"2021-07-05 16:30:00+00:00\",\"2021-07-05 17:00:00+00:00\",\"2021-07-05 17:30:00+00:00\",\"2021-07-05 18:00:00+00:00\",\"2021-07-05 18:30:00+00:00\",\"2021-07-05 19:00:00+00:00\",\"2021-07-05 19:30:00+00:00\",\"2021-07-05 20:00:00+00:00\",\"2021-07-05 20:30:00+00:00\",\"2021-07-05 21:00:00+00:00\",\"2021-07-05 21:30:00+00:00\",\"2021-07-05 22:00:00+00:00\",\"2021-07-05 22:30:00+00:00\",\"2021-07-05 23:00:00+00:00\",\"2021-07-05 23:30:00+00:00\",\"2021-07-06 00:00:00+00:00\",\"2021-07-06 00:30:00+00:00\",\"2021-07-06 01:00:00+00:00\",\"2021-07-06 01:30:00+00:00\",\"2021-07-06 02:00:00+00:00\",\"2021-07-06 02:30:00+00:00\",\"2021-07-06 03:00:00+00:00\",\"2021-07-06 03:30:00+00:00\",\"2021-07-06 04:00:00+00:00\",\"2021-07-06 04:30:00+00:00\",\"2021-07-06 05:00:00+00:00\",\"2021-07-06 05:30:00+00:00\",\"2021-07-06 06:00:00+00:00\",\"2021-07-06 06:30:00+00:00\",\"2021-07-06 07:00:00+00:00\",\"2021-07-06 07:30:00+00:00\",\"2021-07-06 08:00:00+00:00\",\"2021-07-06 08:30:00+00:00\",\"2021-07-06 09:00:00+00:00\",\"2021-07-06 09:30:00+00:00\",\"2021-07-06 10:00:00+00:00\",\"2021-07-06 10:30:00+00:00\",\"2021-07-06 11:00:00+00:00\",\"2021-07-06 11:30:00+00:00\",\"2021-07-06 12:00:00+00:00\",\"2021-07-06 12:30:00+00:00\",\"2021-07-06 13:00:00+00:00\",\"2021-07-06 13:30:00+00:00\",\"2021-07-06 14:00:00+00:00\",\"2021-07-06 14:30:00+00:00\",\"2021-07-06 15:00:00+00:00\",\"2021-07-06 15:30:00+00:00\",\"2021-07-06 16:00:00+00:00\",\"2021-07-06 16:30:00+00:00\",\"2021-07-06 17:00:00+00:00\",\"2021-07-06 17:30:00+00:00\",\"2021-07-06 18:00:00+00:00\",\"2021-07-06 18:30:00+00:00\",\"2021-07-06 19:00:00+00:00\",\"2021-07-06 19:30:00+00:00\",\"2021-07-06 20:00:00+00:00\",\"2021-07-06 20:30:00+00:00\",\"2021-07-06 21:00:00+00:00\",\"2021-07-06 21:30:00+00:00\",\"2021-07-06 22:00:00+00:00\",\"2021-07-06 22:30:00+00:00\",\"2021-07-06 23:00:00+00:00\",\"2021-07-06 23:30:00+00:00\"],\"y\":[0.0,0.0,9.56794e-06,4.15726,115.965,349.732,678.919,1266.86,1900.18,2555.45,3396.92,4260.53,4862.04,5089.95,5480.11,5711.07,6032.58,6276.07,6237.32,6668.34,6260.03,5641.17,5057.11,4439.2,3702.54,3055.06,2508.14,1814.46,1466.24,1094.03,779.86,469.5,270.089,121.307,39.9223,1.84175,0.0,0.0,0.0,0.0,0.0,0.0,0.0,0.0,0.0,0.0,0.0,0.0,0.0,0.0,0.000297183,22.0627,160.552,295.388,504.895,794.416,1249.24,1676.17,2296.53,2861.44,3370.87,3994.14,4434.02,4335.32,5199.38,4610.85,5175.21,4803.52,5374.98,5072.86,5668.5,4922.01,4211.06,3634.52,3636.42,2855.6,2254.6,1855.69,1374.17,766.017,498.974,229.175,68.7874,2.46214,0.0,0.0,0.0,0.0,0.0,0.0],\"type\":\"scatter\"},{\"mode\":\"lines\",\"name\":\"v6.1 XGB + Inter + Bug Fix \",\"x\":[\"2021-07-05 02:30:00+00:00\",\"2021-07-05 03:00:00+00:00\",\"2021-07-05 03:30:00+00:00\",\"2021-07-05 04:00:00+00:00\",\"2021-07-05 04:30:00+00:00\",\"2021-07-05 05:00:00+00:00\",\"2021-07-05 05:30:00+00:00\",\"2021-07-05 06:00:00+00:00\",\"2021-07-05 06:30:00+00:00\",\"2021-07-05 07:00:00+00:00\",\"2021-07-05 07:30:00+00:00\",\"2021-07-05 08:00:00+00:00\",\"2021-07-05 08:30:00+00:00\",\"2021-07-05 09:00:00+00:00\",\"2021-07-05 09:30:00+00:00\",\"2021-07-05 10:00:00+00:00\",\"2021-07-05 10:30:00+00:00\",\"2021-07-05 11:00:00+00:00\",\"2021-07-05 11:30:00+00:00\",\"2021-07-05 12:00:00+00:00\",\"2021-07-05 12:30:00+00:00\",\"2021-07-05 13:00:00+00:00\",\"2021-07-05 13:30:00+00:00\",\"2021-07-05 14:00:00+00:00\",\"2021-07-05 14:30:00+00:00\",\"2021-07-05 15:00:00+00:00\",\"2021-07-05 15:30:00+00:00\",\"2021-07-05 16:00:00+00:00\",\"2021-07-05 16:30:00+00:00\",\"2021-07-05 17:00:00+00:00\",\"2021-07-05 17:30:00+00:00\",\"2021-07-05 18:00:00+00:00\",\"2021-07-05 18:30:00+00:00\",\"2021-07-05 19:00:00+00:00\",\"2021-07-05 19:30:00+00:00\",\"2021-07-05 20:00:00+00:00\",\"2021-07-05 20:30:00+00:00\",\"2021-07-05 21:00:00+00:00\",\"2021-07-05 21:30:00+00:00\",\"2021-07-05 22:00:00+00:00\",\"2021-07-05 22:30:00+00:00\",\"2021-07-05 23:00:00+00:00\",\"2021-07-05 23:30:00+00:00\",\"2021-07-06 00:00:00+00:00\",\"2021-07-06 00:30:00+00:00\",\"2021-07-06 01:00:00+00:00\",\"2021-07-06 01:30:00+00:00\",\"2021-07-06 02:00:00+00:00\",\"2021-07-06 02:30:00+00:00\",\"2021-07-06 03:00:00+00:00\",\"2021-07-06 03:30:00+00:00\",\"2021-07-06 04:00:00+00:00\",\"2021-07-06 04:30:00+00:00\",\"2021-07-06 05:00:00+00:00\",\"2021-07-06 05:30:00+00:00\",\"2021-07-06 06:00:00+00:00\",\"2021-07-06 06:30:00+00:00\",\"2021-07-06 07:00:00+00:00\",\"2021-07-06 07:30:00+00:00\",\"2021-07-06 08:00:00+00:00\",\"2021-07-06 08:30:00+00:00\",\"2021-07-06 09:00:00+00:00\",\"2021-07-06 09:30:00+00:00\",\"2021-07-06 10:00:00+00:00\",\"2021-07-06 10:30:00+00:00\",\"2021-07-06 11:00:00+00:00\",\"2021-07-06 11:30:00+00:00\",\"2021-07-06 12:00:00+00:00\",\"2021-07-06 12:30:00+00:00\",\"2021-07-06 13:00:00+00:00\",\"2021-07-06 13:30:00+00:00\",\"2021-07-06 14:00:00+00:00\",\"2021-07-06 14:30:00+00:00\",\"2021-07-06 15:00:00+00:00\",\"2021-07-06 15:30:00+00:00\",\"2021-07-06 16:00:00+00:00\",\"2021-07-06 16:30:00+00:00\",\"2021-07-06 17:00:00+00:00\",\"2021-07-06 17:30:00+00:00\",\"2021-07-06 18:00:00+00:00\",\"2021-07-06 18:30:00+00:00\"],\"y\":[0.0,0.0,0.0,0.0008652349,10.689369,115.561035,316.53647,616.6642,1028.3219,1588.1462,2315.53,3141.248,3965.0603,4697.7964,4969.717498243163,4989.7604211227,4922.78666863861,4986.790074506595,5460.307257495046,5460.251209579796,5460.195161664545,5450.485767597898,5440.776373531252,5339.948391719653,5239.120409908056,4867.371120173275,4495.621830438494,3897.0000554981366,3298.3782805577803,2724.8349235237383,2151.291566489696,1631.318121373563,1111.3446762574308,749.7035927560373,388.06250925464514,197.89653364190343,7.730558029163124,5.445985685774131,0.0,0.0,0.0,0.0,0.0,0.0,0.0,0.0,0.0,0.0,0.0,0.0,0.0,13.087962071089308,23.01465472341895,155.0657332118003,287.11681170018164,570.1832416724188,853.2496716446574,1201.3987064322412,1549.547741219825,2012.058313239838,2474.568885259851,2942.039848987899,3409.510812715947,3978.9882765598886,4548.46574040383,4930.635910151003,5312.806079898178,5414.5219574607145,5516.237835023253,5479.829673788189,5443.4215125531255,5317.440516689017,5191.459520824908,4730.412998979598,4269.366477134287,3822.05744044461,3374.7484037549334,2842.564476756921,2310.380549758911,1801.781152034032,1293.1817543091547],\"type\":\"scatter\"},{\"mode\":\"lines\",\"name\":\"v7 PVNet 2020-2022\",\"x\":[\"2021-07-05 02:30:00+00:00\",\"2021-07-05 03:00:00+00:00\",\"2021-07-05 03:30:00+00:00\",\"2021-07-05 04:00:00+00:00\",\"2021-07-05 04:30:00+00:00\",\"2021-07-05 05:00:00+00:00\",\"2021-07-05 05:30:00+00:00\",\"2021-07-05 06:00:00+00:00\",\"2021-07-05 06:30:00+00:00\",\"2021-07-05 07:00:00+00:00\",\"2021-07-05 07:30:00+00:00\",\"2021-07-05 08:00:00+00:00\",\"2021-07-05 08:30:00+00:00\",\"2021-07-05 09:00:00+00:00\",\"2021-07-05 09:30:00+00:00\",\"2021-07-05 10:00:00+00:00\",\"2021-07-05 10:30:00+00:00\",\"2021-07-05 11:00:00+00:00\",\"2021-07-05 11:30:00+00:00\",\"2021-07-05 12:00:00+00:00\",\"2021-07-05 12:30:00+00:00\",\"2021-07-05 13:00:00+00:00\",\"2021-07-05 13:30:00+00:00\",\"2021-07-05 14:00:00+00:00\",\"2021-07-05 14:30:00+00:00\",\"2021-07-05 15:00:00+00:00\",\"2021-07-05 15:30:00+00:00\",\"2021-07-05 16:00:00+00:00\",\"2021-07-05 16:30:00+00:00\",\"2021-07-05 17:00:00+00:00\",\"2021-07-05 17:30:00+00:00\",\"2021-07-05 18:00:00+00:00\",\"2021-07-05 18:30:00+00:00\",\"2021-07-05 19:00:00+00:00\",\"2021-07-05 19:30:00+00:00\",\"2021-07-05 20:00:00+00:00\",\"2021-07-05 20:30:00+00:00\",\"2021-07-05 21:00:00+00:00\",\"2021-07-05 21:30:00+00:00\",\"2021-07-05 22:00:00+00:00\",\"2021-07-05 22:30:00+00:00\",\"2021-07-05 23:00:00+00:00\",\"2021-07-05 23:30:00+00:00\",\"2021-07-06 00:00:00+00:00\",\"2021-07-06 00:30:00+00:00\",\"2021-07-06 01:00:00+00:00\",\"2021-07-06 01:30:00+00:00\",\"2021-07-06 02:00:00+00:00\",\"2021-07-06 02:30:00+00:00\",\"2021-07-06 03:00:00+00:00\",\"2021-07-06 03:30:00+00:00\",\"2021-07-06 04:00:00+00:00\",\"2021-07-06 04:30:00+00:00\",\"2021-07-06 05:00:00+00:00\",\"2021-07-06 05:30:00+00:00\",\"2021-07-06 06:00:00+00:00\",\"2021-07-06 06:30:00+00:00\",\"2021-07-06 07:00:00+00:00\",\"2021-07-06 07:30:00+00:00\",\"2021-07-06 08:00:00+00:00\",\"2021-07-06 08:30:00+00:00\",\"2021-07-06 09:00:00+00:00\",\"2021-07-06 09:30:00+00:00\",\"2021-07-06 10:00:00+00:00\",\"2021-07-06 10:30:00+00:00\",\"2021-07-06 11:00:00+00:00\",\"2021-07-06 11:30:00+00:00\",\"2021-07-06 12:00:00+00:00\",\"2021-07-06 12:30:00+00:00\",\"2021-07-06 13:00:00+00:00\",\"2021-07-06 13:30:00+00:00\",\"2021-07-06 14:00:00+00:00\",\"2021-07-06 14:30:00+00:00\",\"2021-07-06 15:00:00+00:00\",\"2021-07-06 15:30:00+00:00\",\"2021-07-06 16:00:00+00:00\",\"2021-07-06 16:30:00+00:00\",\"2021-07-06 17:00:00+00:00\",\"2021-07-06 17:30:00+00:00\",\"2021-07-06 18:00:00+00:00\",\"2021-07-06 18:30:00+00:00\"],\"y\":[0.0,0.0,0.0,0.0,0.0,138.56287,417.86404,804.0962,1255.4868,1787.9098,2421.4077,3117.2437,3829.5854,4483.7925,4772.825323243163,4880.9927711227,4866.47041863861,4986.790074506595,5460.307257495046,5460.251209579796,5460.195161664545,5450.485767597898,5440.776373531252,5339.948391719653,5239.120409908056,4867.371120173275,4495.621830438494,3897.0000554981366,3298.3782805577803,2724.8349235237383,2151.291566489696,1631.318121373563,1111.3446762574308,749.7035927560373,388.06250925464514,197.89653364190343,7.730558029163124,5.445985685774131,0.0,0.0,0.0,0.0,0.0,0.0,0.0,0.0,0.0,0.0,0.0,0.0,0.0,13.087962071089308,23.01465472341895,155.0657332118003,287.11681170018164,570.1832416724188,853.2496716446574,1201.3987064322412,1549.547741219825,2012.058313239838,2474.568885259851,2942.039848987899,3409.510812715947,3978.9882765598886,4548.46574040383,4930.635910151003,5312.806079898178,5414.5219574607145,5516.237835023253,5479.829673788189,5443.4215125531255,5317.440516689017,5191.459520824908,4730.412998979598,4269.366477134287,3822.05744044461,3374.7484037549334,2842.564476756921,2310.380549758911,1801.781152034032,1293.1817543091547],\"type\":\"scatter\"}],                        {\"template\":{\"data\":{\"histogram2dcontour\":[{\"type\":\"histogram2dcontour\",\"colorbar\":{\"outlinewidth\":0,\"ticks\":\"\"},\"colorscale\":[[0.0,\"#0d0887\"],[0.1111111111111111,\"#46039f\"],[0.2222222222222222,\"#7201a8\"],[0.3333333333333333,\"#9c179e\"],[0.4444444444444444,\"#bd3786\"],[0.5555555555555556,\"#d8576b\"],[0.6666666666666666,\"#ed7953\"],[0.7777777777777778,\"#fb9f3a\"],[0.8888888888888888,\"#fdca26\"],[1.0,\"#f0f921\"]]}],\"choropleth\":[{\"type\":\"choropleth\",\"colorbar\":{\"outlinewidth\":0,\"ticks\":\"\"}}],\"histogram2d\":[{\"type\":\"histogram2d\",\"colorbar\":{\"outlinewidth\":0,\"ticks\":\"\"},\"colorscale\":[[0.0,\"#0d0887\"],[0.1111111111111111,\"#46039f\"],[0.2222222222222222,\"#7201a8\"],[0.3333333333333333,\"#9c179e\"],[0.4444444444444444,\"#bd3786\"],[0.5555555555555556,\"#d8576b\"],[0.6666666666666666,\"#ed7953\"],[0.7777777777777778,\"#fb9f3a\"],[0.8888888888888888,\"#fdca26\"],[1.0,\"#f0f921\"]]}],\"heatmap\":[{\"type\":\"heatmap\",\"colorbar\":{\"outlinewidth\":0,\"ticks\":\"\"},\"colorscale\":[[0.0,\"#0d0887\"],[0.1111111111111111,\"#46039f\"],[0.2222222222222222,\"#7201a8\"],[0.3333333333333333,\"#9c179e\"],[0.4444444444444444,\"#bd3786\"],[0.5555555555555556,\"#d8576b\"],[0.6666666666666666,\"#ed7953\"],[0.7777777777777778,\"#fb9f3a\"],[0.8888888888888888,\"#fdca26\"],[1.0,\"#f0f921\"]]}],\"heatmapgl\":[{\"type\":\"heatmapgl\",\"colorbar\":{\"outlinewidth\":0,\"ticks\":\"\"},\"colorscale\":[[0.0,\"#0d0887\"],[0.1111111111111111,\"#46039f\"],[0.2222222222222222,\"#7201a8\"],[0.3333333333333333,\"#9c179e\"],[0.4444444444444444,\"#bd3786\"],[0.5555555555555556,\"#d8576b\"],[0.6666666666666666,\"#ed7953\"],[0.7777777777777778,\"#fb9f3a\"],[0.8888888888888888,\"#fdca26\"],[1.0,\"#f0f921\"]]}],\"contourcarpet\":[{\"type\":\"contourcarpet\",\"colorbar\":{\"outlinewidth\":0,\"ticks\":\"\"}}],\"contour\":[{\"type\":\"contour\",\"colorbar\":{\"outlinewidth\":0,\"ticks\":\"\"},\"colorscale\":[[0.0,\"#0d0887\"],[0.1111111111111111,\"#46039f\"],[0.2222222222222222,\"#7201a8\"],[0.3333333333333333,\"#9c179e\"],[0.4444444444444444,\"#bd3786\"],[0.5555555555555556,\"#d8576b\"],[0.6666666666666666,\"#ed7953\"],[0.7777777777777778,\"#fb9f3a\"],[0.8888888888888888,\"#fdca26\"],[1.0,\"#f0f921\"]]}],\"surface\":[{\"type\":\"surface\",\"colorbar\":{\"outlinewidth\":0,\"ticks\":\"\"},\"colorscale\":[[0.0,\"#0d0887\"],[0.1111111111111111,\"#46039f\"],[0.2222222222222222,\"#7201a8\"],[0.3333333333333333,\"#9c179e\"],[0.4444444444444444,\"#bd3786\"],[0.5555555555555556,\"#d8576b\"],[0.6666666666666666,\"#ed7953\"],[0.7777777777777778,\"#fb9f3a\"],[0.8888888888888888,\"#fdca26\"],[1.0,\"#f0f921\"]]}],\"mesh3d\":[{\"type\":\"mesh3d\",\"colorbar\":{\"outlinewidth\":0,\"ticks\":\"\"}}],\"scatter\":[{\"fillpattern\":{\"fillmode\":\"overlay\",\"size\":10,\"solidity\":0.2},\"type\":\"scatter\"}],\"parcoords\":[{\"type\":\"parcoords\",\"line\":{\"colorbar\":{\"outlinewidth\":0,\"ticks\":\"\"}}}],\"scatterpolargl\":[{\"type\":\"scatterpolargl\",\"marker\":{\"colorbar\":{\"outlinewidth\":0,\"ticks\":\"\"}}}],\"bar\":[{\"error_x\":{\"color\":\"#2a3f5f\"},\"error_y\":{\"color\":\"#2a3f5f\"},\"marker\":{\"line\":{\"color\":\"#E5ECF6\",\"width\":0.5},\"pattern\":{\"fillmode\":\"overlay\",\"size\":10,\"solidity\":0.2}},\"type\":\"bar\"}],\"scattergeo\":[{\"type\":\"scattergeo\",\"marker\":{\"colorbar\":{\"outlinewidth\":0,\"ticks\":\"\"}}}],\"scatterpolar\":[{\"type\":\"scatterpolar\",\"marker\":{\"colorbar\":{\"outlinewidth\":0,\"ticks\":\"\"}}}],\"histogram\":[{\"marker\":{\"pattern\":{\"fillmode\":\"overlay\",\"size\":10,\"solidity\":0.2}},\"type\":\"histogram\"}],\"scattergl\":[{\"type\":\"scattergl\",\"marker\":{\"colorbar\":{\"outlinewidth\":0,\"ticks\":\"\"}}}],\"scatter3d\":[{\"type\":\"scatter3d\",\"line\":{\"colorbar\":{\"outlinewidth\":0,\"ticks\":\"\"}},\"marker\":{\"colorbar\":{\"outlinewidth\":0,\"ticks\":\"\"}}}],\"scattermapbox\":[{\"type\":\"scattermapbox\",\"marker\":{\"colorbar\":{\"outlinewidth\":0,\"ticks\":\"\"}}}],\"scatterternary\":[{\"type\":\"scatterternary\",\"marker\":{\"colorbar\":{\"outlinewidth\":0,\"ticks\":\"\"}}}],\"scattercarpet\":[{\"type\":\"scattercarpet\",\"marker\":{\"colorbar\":{\"outlinewidth\":0,\"ticks\":\"\"}}}],\"carpet\":[{\"aaxis\":{\"endlinecolor\":\"#2a3f5f\",\"gridcolor\":\"white\",\"linecolor\":\"white\",\"minorgridcolor\":\"white\",\"startlinecolor\":\"#2a3f5f\"},\"baxis\":{\"endlinecolor\":\"#2a3f5f\",\"gridcolor\":\"white\",\"linecolor\":\"white\",\"minorgridcolor\":\"white\",\"startlinecolor\":\"#2a3f5f\"},\"type\":\"carpet\"}],\"table\":[{\"cells\":{\"fill\":{\"color\":\"#EBF0F8\"},\"line\":{\"color\":\"white\"}},\"header\":{\"fill\":{\"color\":\"#C8D4E3\"},\"line\":{\"color\":\"white\"}},\"type\":\"table\"}],\"barpolar\":[{\"marker\":{\"line\":{\"color\":\"#E5ECF6\",\"width\":0.5},\"pattern\":{\"fillmode\":\"overlay\",\"size\":10,\"solidity\":0.2}},\"type\":\"barpolar\"}],\"pie\":[{\"automargin\":true,\"type\":\"pie\"}]},\"layout\":{\"autotypenumbers\":\"strict\",\"colorway\":[\"#636efa\",\"#EF553B\",\"#00cc96\",\"#ab63fa\",\"#FFA15A\",\"#19d3f3\",\"#FF6692\",\"#B6E880\",\"#FF97FF\",\"#FECB52\"],\"font\":{\"color\":\"#2a3f5f\"},\"hovermode\":\"closest\",\"hoverlabel\":{\"align\":\"left\"},\"paper_bgcolor\":\"white\",\"plot_bgcolor\":\"#E5ECF6\",\"polar\":{\"bgcolor\":\"#E5ECF6\",\"angularaxis\":{\"gridcolor\":\"white\",\"linecolor\":\"white\",\"ticks\":\"\"},\"radialaxis\":{\"gridcolor\":\"white\",\"linecolor\":\"white\",\"ticks\":\"\"}},\"ternary\":{\"bgcolor\":\"#E5ECF6\",\"aaxis\":{\"gridcolor\":\"white\",\"linecolor\":\"white\",\"ticks\":\"\"},\"baxis\":{\"gridcolor\":\"white\",\"linecolor\":\"white\",\"ticks\":\"\"},\"caxis\":{\"gridcolor\":\"white\",\"linecolor\":\"white\",\"ticks\":\"\"}},\"coloraxis\":{\"colorbar\":{\"outlinewidth\":0,\"ticks\":\"\"}},\"colorscale\":{\"sequential\":[[0.0,\"#0d0887\"],[0.1111111111111111,\"#46039f\"],[0.2222222222222222,\"#7201a8\"],[0.3333333333333333,\"#9c179e\"],[0.4444444444444444,\"#bd3786\"],[0.5555555555555556,\"#d8576b\"],[0.6666666666666666,\"#ed7953\"],[0.7777777777777778,\"#fb9f3a\"],[0.8888888888888888,\"#fdca26\"],[1.0,\"#f0f921\"]],\"sequentialminus\":[[0.0,\"#0d0887\"],[0.1111111111111111,\"#46039f\"],[0.2222222222222222,\"#7201a8\"],[0.3333333333333333,\"#9c179e\"],[0.4444444444444444,\"#bd3786\"],[0.5555555555555556,\"#d8576b\"],[0.6666666666666666,\"#ed7953\"],[0.7777777777777778,\"#fb9f3a\"],[0.8888888888888888,\"#fdca26\"],[1.0,\"#f0f921\"]],\"diverging\":[[0,\"#8e0152\"],[0.1,\"#c51b7d\"],[0.2,\"#de77ae\"],[0.3,\"#f1b6da\"],[0.4,\"#fde0ef\"],[0.5,\"#f7f7f7\"],[0.6,\"#e6f5d0\"],[0.7,\"#b8e186\"],[0.8,\"#7fbc41\"],[0.9,\"#4d9221\"],[1,\"#276419\"]]},\"xaxis\":{\"gridcolor\":\"white\",\"linecolor\":\"white\",\"ticks\":\"\",\"title\":{\"standoff\":15},\"zerolinecolor\":\"white\",\"automargin\":true,\"zerolinewidth\":2},\"yaxis\":{\"gridcolor\":\"white\",\"linecolor\":\"white\",\"ticks\":\"\",\"title\":{\"standoff\":15},\"zerolinecolor\":\"white\",\"automargin\":true,\"zerolinewidth\":2},\"scene\":{\"xaxis\":{\"backgroundcolor\":\"#E5ECF6\",\"gridcolor\":\"white\",\"linecolor\":\"white\",\"showbackground\":true,\"ticks\":\"\",\"zerolinecolor\":\"white\",\"gridwidth\":2},\"yaxis\":{\"backgroundcolor\":\"#E5ECF6\",\"gridcolor\":\"white\",\"linecolor\":\"white\",\"showbackground\":true,\"ticks\":\"\",\"zerolinecolor\":\"white\",\"gridwidth\":2},\"zaxis\":{\"backgroundcolor\":\"#E5ECF6\",\"gridcolor\":\"white\",\"linecolor\":\"white\",\"showbackground\":true,\"ticks\":\"\",\"zerolinecolor\":\"white\",\"gridwidth\":2}},\"shapedefaults\":{\"line\":{\"color\":\"#2a3f5f\"}},\"annotationdefaults\":{\"arrowcolor\":\"#2a3f5f\",\"arrowhead\":0,\"arrowwidth\":1},\"geo\":{\"bgcolor\":\"white\",\"landcolor\":\"#E5ECF6\",\"subunitcolor\":\"white\",\"showland\":true,\"showlakes\":true,\"lakecolor\":\"white\"},\"title\":{\"x\":0.05},\"mapbox\":{\"style\":\"light\"}}},\"title\":{\"text\":\"Generation Data for 2021-07-05 02:30:00+00:00 including pvlive data for 2 days ahead\"},\"xaxis\":{\"title\":{\"text\":\"End Datetime UTC\"}},\"yaxis\":{\"title\":{\"text\":\"Generation MW\"}}},                        {\"responsive\": true}                    ).then(function(){\n",
       "                            \n",
       "var gd = document.getElementById('d37b312a-e442-4ff5-aef5-98602640f084');\n",
       "var x = new MutationObserver(function (mutations, observer) {{\n",
       "        var display = window.getComputedStyle(gd).display;\n",
       "        if (!display || display === 'none') {{\n",
       "            console.log([gd, 'removed!']);\n",
       "            Plotly.purge(gd);\n",
       "            observer.disconnect();\n",
       "        }}\n",
       "}});\n",
       "\n",
       "// Listen for the removal of the full notebook cells\n",
       "var notebookContainer = gd.closest('#notebook-container');\n",
       "if (notebookContainer) {{\n",
       "    x.observe(notebookContainer, {childList: true});\n",
       "}}\n",
       "\n",
       "// Listen for the clearing of the current output cell\n",
       "var outputEl = gd.closest('.output');\n",
       "if (outputEl) {{\n",
       "    x.observe(outputEl, {childList: true});\n",
       "}}\n",
       "\n",
       "                        })                };                });            </script>        </div>"
      ]
     },
     "metadata": {},
     "output_type": "display_data"
    }
   ],
   "source": [
    "# Function to plot multiple forecasts on the same graph including pvlive_df for 2 days ahead\n",
    "def plot_multiple_forecasts_with_pvlive(forecasting_datetime, df_list, df_names, pvlive_df):\n",
    "    fig = go.Figure()\n",
    "    \n",
    "    forecasting_datetime_obj = datetime.strptime(forecasting_datetime, \"%Y-%m-%d %H:%M:%S%z\")\n",
    "    # Calculate 2 days ahead datetime\n",
    "    two_days_ahead_datetime = forecasting_datetime_obj + timedelta(days=1)\n",
    "    pvlive_filtered = pvlive_df[(pvlive_df['start_datetime_utc'] >= forecasting_datetime) & (pvlive_df['end_datetime_utc'] <= two_days_ahead_datetime.isoformat())]\n",
    "    \n",
    "    fig.add_trace(go.Scatter(x=pvlive_filtered['end_datetime_utc'], y=pvlive_filtered['generation_mw'], mode='lines', name='pvlive_data'))\n",
    "    \n",
    "    for df, name in zip(df_list, df_names):\n",
    "        filtered_df = df[df['forecasting_creation_datetime_utc'] == forecasting_datetime]\n",
    "        generation_data = filtered_df[['end_datetime_utc', 'generation_mw']]\n",
    "        # Use model_mapping to rename the models\n",
    "        mapped_name = model_mapping.get(name, name)\n",
    "        fig.add_trace(go.Scatter(x=generation_data['end_datetime_utc'], y=generation_data['generation_mw'], mode='lines', name=mapped_name))\n",
    "    \n",
    "    fig.update_layout(title=f'Generation Data for {forecasting_datetime} including pvlive data for 2 days ahead', xaxis_title='End Datetime UTC', yaxis_title='Generation MW')\n",
    "    fig.show()\n",
    "\n",
    "# Example usage\n",
    "forecasting_datetime = \"2021-07-05 02:30:00+00:00\"\n",
    "\n",
    "models_df = []\n",
    "\n",
    "for pv_model in pv_models:\n",
    "    try:\n",
    "        df_forecast = pd.read_csv(\"../data/\" + pv_model + \".csv.gz\")\n",
    "    except FileNotFoundError:\n",
    "        df_forecast = pd.read_csv(\"../data/\" + pv_model + \".csv\")\n",
    "\n",
    "    models_df.append(df_forecast)\n",
    "\n",
    "plot_multiple_forecasts_with_pvlive(forecasting_datetime, models_df, model_mapping, pvlive_df)"
   ]
  }
 ],
 "metadata": {
  "kernelspec": {
   "display_name": "base",
   "language": "python",
   "name": "python3"
  },
  "language_info": {
   "codemirror_mode": {
    "name": "ipython",
    "version": 3
   },
   "file_extension": ".py",
   "mimetype": "text/x-python",
   "name": "python",
   "nbconvert_exporter": "python",
   "pygments_lexer": "ipython3",
   "version": "3.10.13"
  }
 },
 "nbformat": 4,
 "nbformat_minor": 2
}
