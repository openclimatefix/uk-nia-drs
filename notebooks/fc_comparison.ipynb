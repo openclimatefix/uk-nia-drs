{
 "cells": [
  {
   "cell_type": "code",
   "execution_count": null,
   "metadata": {},
   "outputs": [],
   "source": [
    "import pandas as pd\n",
    "import numpy as np\n",
    "import plotly.graph_objects as go\n",
    "from datetime import datetime, timedelta\n",
    "pd.options.display.max_rows = 100"
   ]
  },
  {
   "cell_type": "code",
   "execution_count": null,
   "metadata": {},
   "outputs": [],
   "source": [
    "pv_models = [\n",
    "    \"model_1\",\n",
    "    \"model_2\"\n",
    "]\n",
    "\n",
    "model_mapping = {\n",
    "    \"model_1\":\"model_1_rename\",\n",
    "    \"model_2\":\"model_2_rename\",\n",
    "}\n",
    "\n",
    "pvlive_df = pd.read_csv(\"../pvlive_2016_2023.csv\")"
   ]
  },
  {
   "cell_type": "code",
   "execution_count": null,
   "metadata": {},
   "outputs": [],
   "source": [
    "def calculate_mae_for_forecast_horizons(pv_models, df_actual, min_end_datetime_utc=None):\n",
    "    mae_results = []  # List to store MAE results for each model\n",
    "\n",
    "    # Load data\n",
    "    for pv_model in pv_models:\n",
    "        print(pv_model)\n",
    "        try:\n",
    "            df_forecast = pd.read_csv(\"../data/\" + pv_model + \".csv.gz\")\n",
    "        except FileNotFoundError:\n",
    "            df_forecast = pd.read_csv(\"../data/\" + pv_model + \".csv\")\n",
    "        merged_df = pd.merge(df_forecast, df_actual, on='end_datetime_utc', suffixes=('_forecast', '_actual'))\n",
    "\n",
    "        # Filter the merged dataframe by the minimum end_datetime_utc if provided\n",
    "        if min_end_datetime_utc is not None:\n",
    "            merged_df['end_datetime_utc'] = pd.to_datetime(merged_df['end_datetime_utc'])\n",
    "            merged_df = merged_df[merged_df['end_datetime_utc'] >= min_end_datetime_utc]\n",
    "\n",
    "            # Here is the option to also have a max end datetime as well\n",
    "            # max_end_datetime_utc = pd.to_datetime(\"2020-01-01 00:00:00\").tz_localize('UTC')\n",
    "            # merged_df = merged_df[merged_df['end_datetime_utc'] <= max_end_datetime_utc]\n",
    "\n",
    "        # Calculate the absolute error between the forecasted and actual generation\n",
    "        merged_df['absolute_error'] = np.abs(merged_df['generation_mw_forecast'] - merged_df['generation_mw_actual'])\n",
    "        # Calculate the forecast horizon in hours\n",
    "        merged_df['forecast_horizon_hours'] = (pd.to_datetime(merged_df['end_datetime_utc']) - pd.to_datetime(merged_df['forecasting_creation_datetime_utc'])).dt.total_seconds() / 3600\n",
    "        mae_by_horizon = merged_df.groupby('forecast_horizon_hours')['absolute_error'].mean().reset_index(name='MAE')\n",
    "        mae_by_horizon['Model'] = pv_model\n",
    "        mae_results.append(mae_by_horizon)\n",
    "\n",
    "    # Concatenate all MAE results into a single DataFrame\n",
    "    merged_forecasts = pd.concat(mae_results)\n",
    "    merged_forecasts['Model'] = merged_forecasts['Model'].replace(model_mapping)\n",
    "    \n",
    "    return merged_forecasts"
   ]
  },
  {
   "cell_type": "code",
   "execution_count": null,
   "metadata": {},
   "outputs": [],
   "source": [
    "mae_results = calculate_mae_for_forecast_horizons(pv_models, pvlive_df)\n",
    "display(mae_results)"
   ]
  },
  {
   "cell_type": "code",
   "execution_count": null,
   "metadata": {},
   "outputs": [],
   "source": [
    "def calculate_average_mae(df):\n",
    "    # Get the unique models from the DataFrame\n",
    "    models = df['Model'].unique()\n",
    "    \n",
    "    # Iterate through each model and calculate the average MAE for the specified time frames\n",
    "    for model in models:\n",
    "        model_df = df[df['Model'] == model]\n",
    "        \n",
    "        # Calculate average MAE for 0-8 hours\n",
    "        avg_mae_0_8 = model_df[model_df['forecast_horizon_hours'] <= 8]['MAE'].mean()\n",
    "        \n",
    "        # Calculate average MAE for 0-40 hours\n",
    "        avg_mae_0_40 = model_df[model_df['forecast_horizon_hours'] <= 40]['MAE'].mean()\n",
    "        \n",
    "        # Print the results\n",
    "        print(f\"Model: {model}\")\n",
    "        print(f\"Average MAE for 0-8 hours: {avg_mae_0_8:.2f}\")\n",
    "        print(f\"Average MAE for 0-40 hours: {avg_mae_0_40:.2f}\")"
   ]
  },
  {
   "cell_type": "code",
   "execution_count": null,
   "metadata": {},
   "outputs": [],
   "source": [
    "calculate_average_mae(mae_results)"
   ]
  },
  {
   "cell_type": "code",
   "execution_count": null,
   "metadata": {},
   "outputs": [],
   "source": [
    "# Use the min end datetime to calculate the error for just pvnet summation model times\n",
    "min_date = pd.to_datetime(\"2019-01-01 00:00:00\").tz_localize('UTC')\n",
    "mae_results_pvnet = calculate_mae_for_forecast_horizons(pv_models, pvlive_df, min_end_datetime_utc=min_date)\n",
    "calculate_average_mae(mae_results_pvnet)"
   ]
  },
  {
   "cell_type": "code",
   "execution_count": null,
   "metadata": {},
   "outputs": [],
   "source": [
    "def plot_multiple_mae_forecast_horizons(df):\n",
    "    fig = go.Figure()\n",
    "    colors = ['#7BCDF3', '#63BCAF', '#FF9736', '#FFD053' , '#14120E', '#4C9A8E']\n",
    "\n",
    "    # Get unique models names and sort alphabetically\n",
    "    models = df['Model'].unique()\n",
    "    models = sorted(models)\n",
    "\n",
    "    for i, model in enumerate(models):\n",
    "        # Filter the DataFrame for the current model\n",
    "        model_df = df[df['Model'] == model]\n",
    "\n",
    "        # Add line plot for MAE across different forecast horizons with color\n",
    "        fig.add_trace(go.Scatter(x=model_df['forecast_horizon_hours'], y=model_df['MAE'],\n",
    "                                 mode='lines+markers', name=model, line=dict(color=colors[i % len(colors)])))\n",
    "\n",
    "    fig.update_layout(title='MAE for Multiple OCF Models',\n",
    "                      xaxis_title='Forecast Horizon',\n",
    "                      yaxis_title='Eror (MAE) MW',\n",
    "                      template='plotly_white')\n",
    "    fig.show()"
   ]
  },
  {
   "cell_type": "code",
   "execution_count": null,
   "metadata": {},
   "outputs": [],
   "source": [
    "plot_multiple_mae_forecast_horizons(mae_results)"
   ]
  },
  {
   "cell_type": "code",
   "execution_count": null,
   "metadata": {},
   "outputs": [],
   "source": [
    "plot_multiple_mae_forecast_horizons(mae_results_pvnet)"
   ]
  },
  {
   "cell_type": "code",
   "execution_count": null,
   "metadata": {},
   "outputs": [],
   "source": [
    "# Function to plot multiple forecasts on the same graph including pvlive_df for 2 days ahead\n",
    "def plot_multiple_forecasts_with_pvlive(forecasting_datetime, df_list, df_names, pvlive_df):\n",
    "    fig = go.Figure()\n",
    "    \n",
    "    forecasting_datetime_obj = datetime.strptime(forecasting_datetime, \"%Y-%m-%d %H:%M:%S%z\")\n",
    "    # Calculate 2 days ahead datetime\n",
    "    two_days_ahead_datetime = forecasting_datetime_obj + timedelta(days=1)\n",
    "    pvlive_filtered = pvlive_df[(pvlive_df['start_datetime_utc'] >= forecasting_datetime) & (pvlive_df['end_datetime_utc'] <= two_days_ahead_datetime.isoformat())]\n",
    "    \n",
    "    fig.add_trace(go.Scatter(x=pvlive_filtered['end_datetime_utc'], y=pvlive_filtered['generation_mw'], mode='lines', name='pvlive_data'))\n",
    "    \n",
    "    for df, name in zip(df_list, df_names):\n",
    "        filtered_df = df[df['forecasting_creation_datetime_utc'] == forecasting_datetime]\n",
    "        generation_data = filtered_df[['end_datetime_utc', 'generation_mw']]\n",
    "        # Use model_mapping to rename the models\n",
    "        mapped_name = model_mapping.get(name, name)\n",
    "        fig.add_trace(go.Scatter(x=generation_data['end_datetime_utc'], y=generation_data['generation_mw'], mode='lines', name=mapped_name))\n",
    "    \n",
    "    fig.update_layout(title=f'Generation Data for {forecasting_datetime} including pvlive data for 2 days ahead', xaxis_title='End Datetime UTC', yaxis_title='Generation MW')\n",
    "    fig.show()"
   ]
  },
  {
   "cell_type": "code",
   "execution_count": null,
   "metadata": {},
   "outputs": [],
   "source": [
    "forecasting_datetime = \"2021-07-05 02:30:00+00:00\"\n",
    "models_df = []\n",
    "\n",
    "for pv_model in pv_models:\n",
    "    try:\n",
    "        df_forecast = pd.read_csv(\"../data/\" + pv_model + \".csv.gz\")\n",
    "    except FileNotFoundError:\n",
    "        df_forecast = pd.read_csv(\"../data/\" + pv_model + \".csv\")\n",
    "\n",
    "    models_df.append(df_forecast)\n",
    "\n",
    "plot_multiple_forecasts_with_pvlive(forecasting_datetime, models_df, model_mapping, pvlive_df)"
   ]
  }
 ],
 "metadata": {
  "kernelspec": {
   "display_name": "base",
   "language": "python",
   "name": "python3"
  },
  "language_info": {
   "codemirror_mode": {
    "name": "ipython",
    "version": 3
   },
   "file_extension": ".py",
   "mimetype": "text/x-python",
   "name": "python",
   "nbconvert_exporter": "python",
   "pygments_lexer": "ipython3",
   "version": "3.10.13"
  }
 },
 "nbformat": 4,
 "nbformat_minor": 2
}
